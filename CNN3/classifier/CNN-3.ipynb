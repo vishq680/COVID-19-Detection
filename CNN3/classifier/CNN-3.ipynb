{
 "cells": [
  {
   "cell_type": "code",
   "execution_count": 1,
   "metadata": {
    "id": "1E1OZADVMR3f"
   },
   "outputs": [],
   "source": [
    "import torch\n",
    "import numpy as np\n",
    "import copy\n",
    "import matplotlib.pyplot as plt\n",
    "import torch.nn as nn\n",
    "from torch.autograd import Variable\n",
    "import torch.nn.functional as F"
   ]
  },
  {
   "cell_type": "code",
   "execution_count": 2,
   "metadata": {
    "id": "6laeAk6d_9Im"
   },
   "outputs": [],
   "source": [
    "import torchvision\n",
    "import torchvision.transforms as transforms\n",
    "import torch.optim as optim"
   ]
  },
  {
   "cell_type": "code",
   "execution_count": 3,
   "metadata": {},
   "outputs": [],
   "source": [
    "from torchvision import models"
   ]
  },
  {
   "cell_type": "code",
   "execution_count": 4,
   "metadata": {},
   "outputs": [
    {
     "name": "stdout",
     "output_type": "stream",
     "text": [
      "cuda:0\n"
     ]
    }
   ],
   "source": [
    "device = torch.device(\"cuda:0\" if torch.cuda.is_available() else \"cpu\")\n",
    "# device=torch.device(\"cpu\")\n",
    "print(device)"
   ]
  },
  {
   "cell_type": "code",
   "execution_count": 5,
   "metadata": {},
   "outputs": [
    {
     "data": {
      "application/javascript": [
       "if (!(\"Notification\" in window)) {\n",
       "    alert(\"This browser does not support desktop notifications, so the %%notify magic will not work.\");\n",
       "} else if (Notification.permission !== 'granted' && Notification.permission !== 'denied') {\n",
       "    Notification.requestPermission(function (permission) {\n",
       "        if(!('permission' in Notification)) {\n",
       "            Notification.permission = permission;\n",
       "        }\n",
       "    })\n",
       "}\n"
      ],
      "text/plain": [
       "<IPython.core.display.Javascript object>"
      ]
     },
     "metadata": {},
     "output_type": "display_data"
    }
   ],
   "source": [
    "%load_ext jupyternotify"
   ]
  },
  {
   "cell_type": "markdown",
   "metadata": {
    "id": "uPdmSmDzIDVb"
   },
   "source": [
    "# Data\n",
    "0->Covid<br>\n",
    "1->No Covid"
   ]
  },
  {
   "cell_type": "code",
   "execution_count": 6,
   "metadata": {
    "id": "1xD1t1w0I6OM"
   },
   "outputs": [],
   "source": [
    "classes=['Covid','No Covid']"
   ]
  },
  {
   "cell_type": "code",
   "execution_count": 18,
   "metadata": {},
   "outputs": [],
   "source": [
    "num_classes=2\n",
    "batch_size=4"
   ]
  },
  {
   "cell_type": "code",
   "execution_count": 19,
   "metadata": {
    "id": "--Fn07LLADbe"
   },
   "outputs": [],
   "source": [
    "# reshape all images to 64x64 and apply tensor transformation\n",
    "dataset = torchvision.datasets.ImageFolder(root=\"./data\",transform=transforms.Compose([\n",
    "                                                            transforms.ToTensor(),\n",
    "                                                            transforms.Resize([227,227]),\n",
    "#                                                             transforms.Normalize((0.5,0.5,0.5),(0.5,0.5,0.5))\n",
    "                                                            # transforms.Grayscale(num_output_channels=1)\n",
    "                                                            ]))\n",
    "# testset = torchvision.datasets.ImageFolder(root=\"./xray\",train=False,transform=transforms.Compose([transforms.Resize([300,305]),transforms.ToTensor()]))\n",
    "# testloader = torch.utils.data.DataLoader(testset, batch_size=4, shuffle=False)"
   ]
  },
  {
   "cell_type": "code",
   "execution_count": 20,
   "metadata": {
    "colab": {
     "base_uri": "https://localhost:8080/"
    },
    "id": "JMFwsLYUCd41",
    "outputId": "30c75bc8-ad42-4767-ab64-18b33dde36ca"
   },
   "outputs": [
    {
     "name": "stdout",
     "output_type": "stream",
     "text": [
      "8088\n"
     ]
    }
   ],
   "source": [
    "print(len(dataset))\n",
    "trainset,testset=torch.utils.data.random_split(dataset,[round(0.8*len(dataset)),round(0.2*len(dataset))],generator=torch.Generator().manual_seed(42))\n",
    "trainloader=torch.utils.data.DataLoader(trainset,batch_size=batch_size,shuffle=True)\n",
    "testloader=torch.utils.data.DataLoader(testset,batch_size=batch_size,shuffle=False)"
   ]
  },
  {
   "cell_type": "code",
   "execution_count": 10,
   "metadata": {
    "id": "jQSRfWRkIjak"
   },
   "outputs": [],
   "source": [
    "def plot_img(img):\n",
    "    npimg=img.numpy()\n",
    "    plt.imshow(np.transpose(npimg,(1,2,0)))\n",
    "    plt.show()"
   ]
  },
  {
   "cell_type": "code",
   "execution_count": 11,
   "metadata": {
    "colab": {
     "base_uri": "https://localhost:8080/"
    },
    "id": "KpZnZFz6GwEA",
    "outputId": "149313e8-ce62-4374-973f-bc4d3c1a3366"
   },
   "outputs": [
    {
     "name": "stdout",
     "output_type": "stream",
     "text": [
      "<class 'torch.Tensor'>\n",
      "(3, 227, 227)\n"
     ]
    },
    {
     "data": {
      "application/javascript": [
       "$(document).ready(\n",
       "    function() {\n",
       "        function appendUniqueDiv(){\n",
       "            // append a div with our uuid so we can check that it's already\n",
       "            // been sent and avoid duplicates on page reload\n",
       "            var notifiedDiv = document.createElement(\"div\")\n",
       "            notifiedDiv.id = \"016101fe-38fe-4cf7-9a32-070a5b65271c\"\n",
       "            element.append(notifiedDiv)\n",
       "        }\n",
       "\n",
       "        // only send notifications if the pageload is complete; this will\n",
       "        // help stop extra notifications when a saved notebook is loaded,\n",
       "        // which during testing gives us state \"interactive\", not \"complete\"\n",
       "        if (document.readyState === 'complete') {\n",
       "            // check for the div that signifies that the notification\n",
       "            // was already sent\n",
       "            if (document.getElementById(\"016101fe-38fe-4cf7-9a32-070a5b65271c\") === null) {\n",
       "                var notificationPayload = {\"requireInteraction\": false, \"icon\": \"/static/base/images/favicon.ico\", \"body\": \"completed\"};\n",
       "                if (Notification.permission !== 'denied') {\n",
       "                    if (Notification.permission !== 'granted') { \n",
       "                        Notification.requestPermission(function (permission) {\n",
       "                            if(!('permission' in Notification)) {\n",
       "                                Notification.permission = permission\n",
       "                            }\n",
       "                        })\n",
       "                    }\n",
       "                    if (Notification.permission === 'granted') {\n",
       "                    var notification = new Notification(\"Jupyter Notebook\", notificationPayload)\n",
       "                    appendUniqueDiv()\n",
       "                    notification.onclick = function () {\n",
       "                        window.focus();\n",
       "                        this.close();\n",
       "                        };\n",
       "                    } \n",
       "                }     \n",
       "            }\n",
       "        }\n",
       "    }\n",
       ")\n"
      ],
      "text/plain": [
       "<IPython.core.display.Javascript object>"
      ]
     },
     "metadata": {},
     "output_type": "display_data"
    }
   ],
   "source": [
    "%%notify -m \"completed\"\n",
    "dataiter=iter(trainloader)\n",
    "images,labels=dataiter.next()\n",
    "img=images[0]\n",
    "print(type(img))\n",
    "npimg=img.numpy()\n",
    "print(npimg.shape)"
   ]
  },
  {
   "cell_type": "code",
   "execution_count": 12,
   "metadata": {
    "colab": {
     "base_uri": "https://localhost:8080/",
     "height": 137
    },
    "id": "-resNQDZIweL",
    "outputId": "aff1d2d8-ecf6-4ef2-b47d-1805464c2495"
   },
   "outputs": [
    {
     "data": {
      "image/png": "[encoded data removed]",
      "text/plain": [
       "<Figure size 432x288 with 1 Axes>"
      ]
     },
     "metadata": {
      "needs_background": "light"
     },
     "output_type": "display_data"
    },
    {
     "name": "stdout",
     "output_type": "stream",
     "text": [
      "No Covid No Covid No Covid No Covid "
     ]
    }
   ],
   "source": [
    "plot_img(torchvision.utils.make_grid(images))\n",
    "for i in range(4):\n",
    "    print(classes[labels[i]],end=\" \")"
   ]
  },
  {
   "cell_type": "markdown",
   "metadata": {
    "id": "DWJtpWjlKc8m"
   },
   "source": [
    "# Preparing The CNN"
   ]
  },
  {
   "cell_type": "code",
   "execution_count": 13,
   "metadata": {},
   "outputs": [],
   "source": [
    "def evaluation(dataloader,model):\n",
    "    model.eval()\n",
    "    with torch.no_grad():\n",
    "        total,correct=0,0\n",
    "        for data in dataloader:\n",
    "            inputs,labels=data\n",
    "            inputs,labels=inputs.to(device),labels.to(device)\n",
    "            outputs=model(inputs)\n",
    "    #         print(outputs)\n",
    "    #         print(outputs,labels)\n",
    "            m = nn.Sigmoid()\n",
    "            outputs=m(outputs)\n",
    "            pred=outputs>=0.5\n",
    "            pred=pred.flatten()\n",
    "            total+=labels.size(0)\n",
    "            # labels=torch.add(labels,-1)\n",
    "            # print(pred,labels)\n",
    "    #         print(list(map(lambda a: classes[a],pred)),list(map(lambda a: classes[a],labels)))\n",
    "            correct+=(pred==labels).sum().item()\n",
    "    print(correct,total)\n",
    "    model.train()\n",
    "    return 100*correct/total"
   ]
  },
  {
   "cell_type": "code",
   "execution_count": 15,
   "metadata": {
    "id": "MUrhhSC2KgVi"
   },
   "outputs": [],
   "source": [
    "class CNN(nn.Module):\n",
    "    def __init__(self):\n",
    "        super(CNN,self).__init__()\n",
    "        self.representation_network=nn.Sequential(\n",
    "            nn.Conv2d(3,128,5),\n",
    "            nn.ReLU(),\n",
    "            nn.MaxPool2d(kernel_size=2,stride=2),\n",
    "            nn.Conv2d(128,64,3),\n",
    "            nn.ReLU(),\n",
    "            nn.MaxPool2d(kernel_size=2,stride=2),\n",
    "            nn.Conv2d(64,32,3),\n",
    "            nn.ReLU(),\n",
    "            nn.MaxPool2d(kernel_size=2,stride=2),\n",
    "        )\n",
    "        self.classification_network=nn.Sequential(\n",
    "            nn.Linear(21632,512),\n",
    "            nn.ReLU(),\n",
    "            nn.Linear(512,256),\n",
    "            nn.ReLU(),\n",
    "            nn.Linear(256,128),\n",
    "            nn.ReLU(),\n",
    "            nn.Linear(128,1)\n",
    "#             nn.Sigmoid()\n",
    "        )\n",
    "    def forward(self,x):\n",
    "        # print(x.shape)\n",
    "        x=self.representation_network(x)\n",
    "#         print(x.shape)\n",
    "        # flattening of the vector=> same dimension of first index(batch size) , everythign else is flattened(-1)\n",
    "        x=x.view(x.size(0),-1)\n",
    "#         print(x.shape)\n",
    "        x=self.classification_network(x)\n",
    "        # print(x.shape)\n",
    "        return x"
   ]
  },
  {
   "cell_type": "code",
   "execution_count": 15,
   "metadata": {},
   "outputs": [],
   "source": [
    "from sklearn.model_selection import KFold"
   ]
  },
  {
   "cell_type": "code",
   "execution_count": 16,
   "metadata": {},
   "outputs": [],
   "source": [
    "def k_fold_cv(model,dataset,loss_function,k_folds=5,epochs=10):\n",
    "    kfold = KFold(n_splits=k_folds, shuffle=True)\n",
    "    # Initialize optimizer\n",
    "    results = {}\n",
    "    for fold, (train_ids, test_ids) in enumerate(kfold.split(dataset)): \n",
    "        print(f'FOLD {fold}')\n",
    "        print('--------------------------------')\n",
    "\n",
    "        # Sample elements randomly from a given list of ids, no replacement.\n",
    "        train_subsampler = torch.utils.data.SubsetRandomSampler(train_ids)\n",
    "        test_subsampler = torch.utils.data.SubsetRandomSampler(test_ids)\n",
    "        # Define data loaders for training and testing data in this fold\n",
    "        trainloader = torch.utils.data.DataLoader(\n",
    "              dataset, \n",
    "              batch_size=batch_size, sampler=train_subsampler)\n",
    "        testloader = torch.utils.data.DataLoader(\n",
    "              dataset,\n",
    "              batch_size=batch_size, sampler=test_subsampler)\n",
    "\n",
    "        # Init the neural network\n",
    "        network = model\n",
    "        reset_weights(network)\n",
    "        optimizer = optim.Adam(network.parameters())\n",
    "        # Run the training loop for defined number of epochs\n",
    "        for epoch in range(0, epochs):\n",
    "\n",
    "            # Print epoch\n",
    "            print(f'Starting epoch {epoch+1}')\n",
    "\n",
    "            # Set current loss value\n",
    "            current_loss = 0.0\n",
    "\n",
    "            # Iterate over the DataLoader for training data\n",
    "            for i, data in enumerate(trainloader, 0):\n",
    "\n",
    "                # Get inputs\n",
    "                inputs, targets = data\n",
    "                inputs = inputs.to(device)\n",
    "                targets = targets.to(device)\n",
    "                # Zero the gradients\n",
    "                optimizer.zero_grad()\n",
    "\n",
    "                # Perform forward pass\n",
    "                outputs = network(inputs)\n",
    "                targets = targets.unsqueeze(-1)\n",
    "                targets = targets.type_as(outputs)\n",
    "                # Compute loss\n",
    "                loss = loss_function(outputs, targets)\n",
    "\n",
    "                # Perform backward pass\n",
    "                loss.backward()\n",
    "\n",
    "                # Perform optimization\n",
    "                optimizer.step()\n",
    "\n",
    "                # Print statistics\n",
    "                current_loss += loss.item()\n",
    "                if i % 500 == 499:\n",
    "                    print('Loss after mini-batch %5d: %.3f' %\n",
    "                      (i + 1, current_loss / 500))\n",
    "                    current_loss = 0.0\n",
    "\n",
    "        # Process is complete.\n",
    "        print('Training process has finished. Saving the trained model.')\n",
    "        save_path = f'./CNN3-fold-{fold}.pth'\n",
    "        torch.save(network, save_path)\n",
    "\n",
    "        # Evaluation for this fold\n",
    "        correct, total = 0, 0\n",
    "        with torch.no_grad():\n",
    "\n",
    "            # Iterate over the test data and generate predictions\n",
    "            for i, data in enumerate(testloader, 0):\n",
    "                # Get inputs\n",
    "                inputs, targets = data\n",
    "                inputs,targets=inputs.to(device),targets.to(device)\n",
    "                # Generate outputs\n",
    "                outputs = network(inputs)\n",
    "                m = nn.Sigmoid()\n",
    "                outputs=m(outputs)\n",
    "                pred=outputs>=0.5\n",
    "                pred=pred.flatten()\n",
    "                # Set total and correct\n",
    "                total += targets.size(0)\n",
    "                correct += (pred == targets).sum().item()\n",
    "\n",
    "            # Print accuracy\n",
    "            print('Accuracy for fold %d: %d %%' % (fold, 100.0 * correct / total))\n",
    "            print('--------------------------------')\n",
    "            results[fold] = 100.0 * (correct / total)\n",
    "\n",
    "    # Print fold results\n",
    "    print(f'K-FOLD CROSS VALIDATION RESULTS FOR {k_folds} FOLDS')\n",
    "    print('--------------------------------')\n",
    "    sum = 0.0\n",
    "    for key, value in results.items():\n",
    "        print(f'Fold {key}: {value} %')\n",
    "        sum += value\n",
    "    print(f'Average: {sum/len(results.items())} %')"
   ]
  },
  {
   "cell_type": "code",
   "execution_count": 17,
   "metadata": {},
   "outputs": [],
   "source": [
    "def train(net,dataloader,epochs=15):\n",
    "    loss_fn=nn.BCEWithLogitsLoss().to(device)\n",
    "    opt=optim.Adam(params=net.parameters())\n",
    "    for epoch in range(epochs):\n",
    "        for i,data in enumerate(dataloader,0):\n",
    "            inputs,labels=data\n",
    "            inputs,labels=inputs.to(device),labels.to(device)\n",
    "            opt.zero_grad()\n",
    "            outputs=net(inputs)\n",
    "            labels=labels.unsqueeze(-1)\n",
    "            labels = labels.type_as(outputs)\n",
    "    #         print(outputs)\n",
    "            loss=loss_fn(outputs,labels)\n",
    "            loss.backward()\n",
    "            opt.step()\n",
    "            torch.cuda.empty_cache()\n",
    "            del inputs,labels,outputs"
   ]
  },
  {
   "cell_type": "markdown",
   "metadata": {},
   "source": [
    "CNN3"
   ]
  },
  {
   "cell_type": "code",
   "execution_count": 27,
   "metadata": {},
   "outputs": [],
   "source": [
    "def reset_weights(m):\n",
    "    m.load_state_dict(torch.load(\"./CNN3_Original_state.pt\"))"
   ]
  },
  {
   "cell_type": "code",
   "execution_count": 19,
   "metadata": {},
   "outputs": [],
   "source": [
    "class CNN(nn.Module):\n",
    "    def __init__(self):\n",
    "        super(CNN,self).__init__()\n",
    "        self.representation_network=nn.Sequential(\n",
    "            nn.Conv2d(3,32,3), \n",
    "            nn.ReLU(), \n",
    "            nn.MaxPool2d(kernel_size=2,stride=3),\n",
    "            nn.Conv2d(32,32,3),\n",
    "            nn.ReLU(),\n",
    "            nn.MaxPool2d(kernel_size=2,stride=3),\n",
    "        )\n",
    "        self.classification_network=nn.Sequential(\n",
    "            nn.Linear(18432,512),\n",
    "            nn.ReLU(),\n",
    "            nn.Linear(512,256),\n",
    "            nn.ReLU(),\n",
    "            nn.Linear(256,128),\n",
    "            nn.ReLU(),\n",
    "            nn.Linear(128,1)\n",
    "#             nn.Sigmoid()\n",
    "        )\n",
    "    def forward(self,x):\n",
    "        # print(x.shape)\n",
    "        x=self.representation_network(x)\n",
    "#         print(x.shape)\n",
    "        # flattening of the vector=> same dimension of first index(batch size) , everythign else is flattened(-1)\n",
    "        x=x.view(x.size(0),-1)\n",
    "#         print(x.shape)\n",
    "        x=self.classification_network(x)\n",
    "        # print(x.shape)\n",
    "        return x"
   ]
  },
  {
   "cell_type": "code",
   "execution_count": 25,
   "metadata": {
    "scrolled": true
   },
   "outputs": [
    {
     "name": "stdout",
     "output_type": "stream",
     "text": [
      "FOLD 0\n",
      "--------------------------------\n",
      "Starting epoch 1\n",
      "Loss after mini-batch   500: 0.593\n",
      "Loss after mini-batch  1000: 0.393\n",
      "Starting epoch 2\n",
      "Loss after mini-batch   500: 0.315\n",
      "Loss after mini-batch  1000: 0.312\n",
      "Starting epoch 3\n",
      "Loss after mini-batch   500: 0.221\n",
      "Loss after mini-batch  1000: 0.234\n",
      "Starting epoch 4\n",
      "Loss after mini-batch   500: 0.207\n",
      "Loss after mini-batch  1000: 0.187\n",
      "Starting epoch 5\n",
      "Loss after mini-batch   500: 0.183\n",
      "Loss after mini-batch  1000: 0.172\n",
      "Starting epoch 6\n",
      "Loss after mini-batch   500: 0.123\n",
      "Loss after mini-batch  1000: 0.138\n",
      "Starting epoch 7\n",
      "Loss after mini-batch   500: 0.111\n",
      "Loss after mini-batch  1000: 0.124\n",
      "Starting epoch 8\n",
      "Loss after mini-batch   500: 0.087\n",
      "Loss after mini-batch  1000: 0.095\n",
      "Starting epoch 9\n",
      "Loss after mini-batch   500: 0.077\n",
      "Loss after mini-batch  1000: 0.082\n",
      "Starting epoch 10\n",
      "Loss after mini-batch   500: 0.059\n",
      "Loss after mini-batch  1000: 0.084\n",
      "Training process has finished. Saving the trained model.\n",
      "Accuracy for fold 0: 92 %\n",
      "--------------------------------\n",
      "FOLD 1\n",
      "--------------------------------\n",
      "Starting epoch 1\n",
      "Loss after mini-batch   500: 0.532\n",
      "Loss after mini-batch  1000: 0.387\n",
      "Starting epoch 2\n",
      "Loss after mini-batch   500: 0.287\n",
      "Loss after mini-batch  1000: 0.280\n",
      "Starting epoch 3\n",
      "Loss after mini-batch   500: 0.210\n",
      "Loss after mini-batch  1000: 0.210\n",
      "Starting epoch 4\n",
      "Loss after mini-batch   500: 0.175\n",
      "Loss after mini-batch  1000: 0.173\n",
      "Starting epoch 5\n",
      "Loss after mini-batch   500: 0.143\n",
      "Loss after mini-batch  1000: 0.144\n",
      "Starting epoch 6\n",
      "Loss after mini-batch   500: 0.107\n",
      "Loss after mini-batch  1000: 0.133\n",
      "Starting epoch 7\n",
      "Loss after mini-batch   500: 0.088\n",
      "Loss after mini-batch  1000: 0.103\n",
      "Starting epoch 8\n",
      "Loss after mini-batch   500: 0.087\n",
      "Loss after mini-batch  1000: 0.089\n",
      "Starting epoch 9\n",
      "Loss after mini-batch   500: 0.076\n",
      "Loss after mini-batch  1000: 0.074\n",
      "Starting epoch 10\n",
      "Loss after mini-batch   500: 0.062\n",
      "Loss after mini-batch  1000: 0.053\n",
      "Training process has finished. Saving the trained model.\n",
      "Accuracy for fold 1: 92 %\n",
      "--------------------------------\n",
      "FOLD 2\n",
      "--------------------------------\n",
      "Starting epoch 1\n",
      "Loss after mini-batch   500: 0.583\n",
      "Loss after mini-batch  1000: 0.438\n",
      "Starting epoch 2\n",
      "Loss after mini-batch   500: 0.330\n",
      "Loss after mini-batch  1000: 0.274\n",
      "Starting epoch 3\n",
      "Loss after mini-batch   500: 0.223\n",
      "Loss after mini-batch  1000: 0.205\n",
      "Starting epoch 4\n",
      "Loss after mini-batch   500: 0.142\n",
      "Loss after mini-batch  1000: 0.183\n",
      "Starting epoch 5\n",
      "Loss after mini-batch   500: 0.142\n",
      "Loss after mini-batch  1000: 0.124\n",
      "Starting epoch 6\n",
      "Loss after mini-batch   500: 0.112\n",
      "Loss after mini-batch  1000: 0.135\n",
      "Starting epoch 7\n",
      "Loss after mini-batch   500: 0.088\n",
      "Loss after mini-batch  1000: 0.095\n",
      "Starting epoch 8\n",
      "Loss after mini-batch   500: 0.073\n",
      "Loss after mini-batch  1000: 0.083\n",
      "Starting epoch 9\n",
      "Loss after mini-batch   500: 0.062\n",
      "Loss after mini-batch  1000: 0.063\n",
      "Starting epoch 10\n",
      "Loss after mini-batch   500: 0.059\n",
      "Loss after mini-batch  1000: 0.072\n",
      "Training process has finished. Saving the trained model.\n",
      "Accuracy for fold 2: 90 %\n",
      "--------------------------------\n",
      "FOLD 3\n",
      "--------------------------------\n",
      "Starting epoch 1\n",
      "Loss after mini-batch   500: 0.592\n",
      "Loss after mini-batch  1000: 0.412\n",
      "Starting epoch 2\n",
      "Loss after mini-batch   500: 0.310\n",
      "Loss after mini-batch  1000: 0.312\n",
      "Starting epoch 3\n",
      "Loss after mini-batch   500: 0.285\n",
      "Loss after mini-batch  1000: 0.225\n",
      "Starting epoch 4\n",
      "Loss after mini-batch   500: 0.206\n",
      "Loss after mini-batch  1000: 0.186\n",
      "Starting epoch 5\n",
      "Loss after mini-batch   500: 0.140\n",
      "Loss after mini-batch  1000: 0.181\n",
      "Starting epoch 6\n",
      "Loss after mini-batch   500: 0.144\n",
      "Loss after mini-batch  1000: 0.133\n",
      "Starting epoch 7\n",
      "Loss after mini-batch   500: 0.110\n",
      "Loss after mini-batch  1000: 0.137\n",
      "Starting epoch 8\n",
      "Loss after mini-batch   500: 0.091\n",
      "Loss after mini-batch  1000: 0.107\n",
      "Starting epoch 9\n",
      "Loss after mini-batch   500: 0.079\n",
      "Loss after mini-batch  1000: 0.076\n",
      "Starting epoch 10\n",
      "Loss after mini-batch   500: 0.070\n",
      "Loss after mini-batch  1000: 0.088\n",
      "Training process has finished. Saving the trained model.\n",
      "Accuracy for fold 3: 90 %\n",
      "--------------------------------\n",
      "FOLD 4\n",
      "--------------------------------\n",
      "Starting epoch 1\n",
      "Loss after mini-batch   500: 0.625\n",
      "Loss after mini-batch  1000: 0.442\n",
      "Starting epoch 2\n",
      "Loss after mini-batch   500: 0.323\n",
      "Loss after mini-batch  1000: 0.308\n",
      "Starting epoch 3\n",
      "Loss after mini-batch   500: 0.253\n",
      "Loss after mini-batch  1000: 0.243\n",
      "Starting epoch 4\n",
      "Loss after mini-batch   500: 0.201\n",
      "Loss after mini-batch  1000: 0.194\n",
      "Starting epoch 5\n",
      "Loss after mini-batch   500: 0.169\n",
      "Loss after mini-batch  1000: 0.135\n",
      "Starting epoch 6\n",
      "Loss after mini-batch   500: 0.120\n",
      "Loss after mini-batch  1000: 0.133\n",
      "Starting epoch 7\n",
      "Loss after mini-batch   500: 0.108\n",
      "Loss after mini-batch  1000: 0.083\n",
      "Starting epoch 8\n",
      "Loss after mini-batch   500: 0.075\n",
      "Loss after mini-batch  1000: 0.115\n",
      "Starting epoch 9\n",
      "Loss after mini-batch   500: 0.078\n",
      "Loss after mini-batch  1000: 0.079\n",
      "Starting epoch 10\n",
      "Loss after mini-batch   500: 0.063\n",
      "Loss after mini-batch  1000: 0.092\n",
      "Training process has finished. Saving the trained model.\n",
      "Accuracy for fold 4: 94 %\n",
      "--------------------------------\n",
      "K-FOLD CROSS VALIDATION RESULTS FOR 5 FOLDS\n",
      "--------------------------------\n",
      "Fold 0: 92.34930448222566 %\n",
      "Fold 1: 92.27202472952087 %\n",
      "Fold 2: 90.88098918083463 %\n",
      "Fold 3: 90.41731066460588 %\n",
      "Fold 4: 94.04945904173107 %\n",
      "Average: 91.99381761978364 %\n"
     ]
    }
   ],
   "source": [
    "net=CNN().to(device)\n",
    "loss_fn=nn.BCEWithLogitsLoss().to(device)\n",
    "data_set=trainset\n",
    "path=\"./CNN3_Original_state.pt\"\n",
    "torch.save(net.state_dict(),path)\n",
    "k_fold_cv(net,data_set,loss_fn,epochs=10)"
   ]
  },
  {
   "cell_type": "code",
   "execution_count": 31,
   "metadata": {},
   "outputs": [],
   "source": [
    "reset_weights(net)\n",
    "train(net,trainloader)"
   ]
  },
  {
   "cell_type": "code",
   "execution_count": 26,
   "metadata": {},
   "outputs": [
    {
     "name": "stdout",
     "output_type": "stream",
     "text": [
      "1486 1618\n"
     ]
    },
    {
     "data": {
      "text/plain": [
       "91.84177997527811"
      ]
     },
     "execution_count": 26,
     "metadata": {},
     "output_type": "execute_result"
    }
   ],
   "source": [
    "evaluation(testloader,net)"
   ]
  },
  {
   "cell_type": "code",
   "execution_count": 33,
   "metadata": {},
   "outputs": [],
   "source": [
    "torch.save(net,\"CNN-3_final.pth\")"
   ]
  },
  {
   "cell_type": "code",
   "execution_count": 22,
   "metadata": {},
   "outputs": [],
   "source": [
    "from sklearn.metrics import accuracy_score\n",
    "from sklearn.metrics import roc_auc_score\n",
    "from sklearn.metrics import recall_score\n",
    "from sklearn.metrics import f1_score\n",
    "from sklearn.metrics import precision_score"
   ]
  },
  {
   "cell_type": "code",
   "execution_count": 23,
   "metadata": {},
   "outputs": [],
   "source": [
    "def report(dataloader,model):\n",
    "    y_true,y_pred=torch.tensor([]),torch.tensor([])\n",
    "    model.eval()\n",
    "    with torch.no_grad():\n",
    "        total,correct=0,0\n",
    "        for data in dataloader:\n",
    "            inputs,labels=data\n",
    "            inputs,labels=inputs.to(device),labels.to(device)\n",
    "            outputs=model(inputs)\n",
    "    #         print(outputs)\n",
    "    #         print(outputs,labels)\n",
    "            m = nn.Sigmoid()\n",
    "            outputs=m(outputs)\n",
    "            pred=outputs>=0.5\n",
    "            pred=pred.flatten()\n",
    "            y_true=torch.cat((y_true,copy.deepcopy(labels.cpu())),0)\n",
    "            y_pred=torch.cat((y_pred,copy.deepcopy(pred.cpu())),0)\n",
    "#             print(y_pred,y_true,y_pred==y_true,pred==labels)\n",
    "            total+=labels.size(0)\n",
    "            # labels=torch.add(labels,-1)\n",
    "            # print(pred,labels)\n",
    "    #         print(list(map(lambda a: classes[a],pred)),list(map(lambda a: classes[a],labels)))\n",
    "            correct+=(pred==labels).sum().item()\n",
    "#             print((pred==labels).sum())\n",
    "    print(\"Accuracy: \",accuracy_score(y_true,y_pred))\n",
    "    print(\"Precision: \",precision_score(y_true,y_pred))\n",
    "    print(\"Recall: \",recall_score(y_true,y_pred))\n",
    "    print(\"F1-Score: \",f1_score(y_true,y_pred))\n",
    "    print(\"AUC: \",roc_auc_score(y_true,y_pred))\n",
    "    print(correct,total)\n",
    "#     print(y_true,y_pred)\n",
    "    y_pred=y_pred.flatten()\n",
    "    y_true=y_true.flatten()\n",
    "#     print(classification_report(y_true, y_pred))\n",
    "    \n",
    "    model.train()\n",
    "    return 100*correct/total"
   ]
  },
  {
   "cell_type": "code",
   "execution_count": 24,
   "metadata": {},
   "outputs": [
    {
     "name": "stdout",
     "output_type": "stream",
     "text": [
      "Accuracy:  0.9184177997527813\n",
      "Precision:  0.9063981042654028\n",
      "Recall:  0.9352078239608802\n",
      "F1-Score:  0.9205776173285198\n",
      "AUC:  0.9182289119804401\n",
      "1486 1618\n",
      "91.84177997527811\n"
     ]
    }
   ],
   "source": [
    "print(report(testloader,net))"
   ]
  }
 ],
 "metadata": {
  "accelerator": "GPU",
  "colab": {
   "name": "CNN.ipynb",
   "provenance": [],
   "toc_visible": true
  },
  "kernelspec": {
   "display_name": "Python 3",
   "language": "python",
   "name": "python3"
  },
  "language_info": {
   "codemirror_mode": {
    "name": "ipython",
    "version": 3
   },
   "file_extension": ".py",
   "mimetype": "text/x-python",
   "name": "python",
   "nbconvert_exporter": "python",
   "pygments_lexer": "ipython3",
   "version": "3.9.5"
  }
 },
 "nbformat": 4,
 "nbformat_minor": 1
}
