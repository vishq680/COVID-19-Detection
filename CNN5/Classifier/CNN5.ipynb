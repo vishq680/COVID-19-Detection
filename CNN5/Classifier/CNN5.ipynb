{
 "cells": [
  {
   "cell_type": "code",
   "execution_count": 1,
   "id": "c39d2ce9",
   "metadata": {},
   "outputs": [
    {
     "data": {
      "application/javascript": [
       "if (!(\"Notification\" in window)) {\n",
       "    alert(\"This browser does not support desktop notifications, so the %%notify magic will not work.\");\n",
       "} else if (Notification.permission !== 'granted' && Notification.permission !== 'denied') {\n",
       "    Notification.requestPermission(function (permission) {\n",
       "        if(!('permission' in Notification)) {\n",
       "            Notification.permission = permission;\n",
       "        }\n",
       "    })\n",
       "}\n"
      ],
      "text/plain": [
       "<IPython.core.display.Javascript object>"
      ]
     },
     "metadata": {},
     "output_type": "display_data"
    }
   ],
   "source": [
    "import torch\n",
    "import numpy as np\n",
    "import matplotlib.pyplot as plt\n",
    "import torch.nn as nn\n",
    "import torch.nn.functional as F\n",
    "import torch.optim as optim\n",
    "import copy\n",
    "%load_ext jupyternotify"
   ]
  },
  {
   "cell_type": "code",
   "execution_count": 2,
   "id": "87287fac",
   "metadata": {},
   "outputs": [],
   "source": [
    "import torchvision\n",
    "import torchvision.transforms as transforms\n",
    "from torchvision import models"
   ]
  },
  {
   "cell_type": "code",
   "execution_count": 3,
   "id": "afad1701",
   "metadata": {},
   "outputs": [
    {
     "name": "stdout",
     "output_type": "stream",
     "text": [
      "cuda:0\n"
     ]
    }
   ],
   "source": [
    "device = torch.device(\"cuda:0\" if torch.cuda.is_available() else \"cpu\")\n",
    "print(device)"
   ]
  },
  {
   "cell_type": "markdown",
   "id": "3b924a67",
   "metadata": {},
   "source": [
    "#Data \n",
    "0->Covid\n",
    "1->No Covid"
   ]
  },
  {
   "cell_type": "code",
   "execution_count": 4,
   "id": "cdfd4103",
   "metadata": {},
   "outputs": [],
   "source": [
    "classes=['Covid','No Covid']\n",
    "batch_size=4"
   ]
  },
  {
   "cell_type": "code",
   "execution_count": 5,
   "id": "4f51577a",
   "metadata": {},
   "outputs": [],
   "source": [
    "# reshape all images to 64x64 and apply tensor transformation\n",
    "dataset = torchvision.datasets.ImageFolder(root=\"./Full\",transform=transforms.Compose([\n",
    "                                                            transforms.ToTensor(),\n",
    "                                                            transforms.Resize([227,227])\n",
    "                                                            # transforms.Grayscale(num_output_channels=1)\n",
    "                                                            ]))\n",
    "# testset = torchvision.datasets.ImageFolder(root=\"./xray\",train=False,transform=transforms.Compose([transforms.Resize([300,305]),transforms.ToTensor()]))\n",
    "# testloader = torch.utils.data.DataLoader(testset, batch_size=4, shuffle=False)"
   ]
  },
  {
   "cell_type": "code",
   "execution_count": 6,
   "id": "65db96df",
   "metadata": {},
   "outputs": [
    {
     "name": "stdout",
     "output_type": "stream",
     "text": [
      "8088\n"
     ]
    }
   ],
   "source": [
    "print(len(dataset))\n",
    "trainset,testset,valset=torch.utils.data.random_split(dataset,[round(0.8*len(dataset)),round(0.1*len(dataset)),round(0.1*len(dataset))],generator=torch.Generator().manual_seed(42))\n",
    "trainloader=torch.utils.data.DataLoader(trainset,batch_size=batch_size,shuffle=True)\n",
    "testloader=torch.utils.data.DataLoader(testset,batch_size=batch_size,shuffle=False)\n",
    "valloader=torch.utils.data.DataLoader(valset,batch_size=batch_size,shuffle=False)"
   ]
  },
  {
   "cell_type": "code",
   "execution_count": 7,
   "id": "d2468fc7",
   "metadata": {},
   "outputs": [
    {
     "name": "stdout",
     "output_type": "stream",
     "text": [
      "8088\n",
      "1617.5 404.5\n"
     ]
    }
   ],
   "source": [
    "print(len(dataset))\n",
    "trainset,testset=torch.utils.data.random_split(dataset,[round(0.8*len(dataset)),round(0.2*len(dataset))],generator=torch.Generator().manual_seed(42))\n",
    "trainloader=torch.utils.data.DataLoader(trainset,batch_size=4,shuffle=True)\n",
    "testloader=torch.utils.data.DataLoader(testset,batch_size=4,shuffle=False)\n",
    "print(len(trainset)/batch_size,len(testset)/batch_size)"
   ]
  },
  {
   "cell_type": "code",
   "execution_count": 8,
   "id": "0e098dfe",
   "metadata": {},
   "outputs": [
    {
     "name": "stdout",
     "output_type": "stream",
     "text": [
      "torch.Size([4, 3, 227, 227]) tensor([0, 0, 1, 1])\n"
     ]
    }
   ],
   "source": [
    "dataiter=iter(trainloader)\n",
    "images,labels=dataiter.next()\n",
    "print(images.shape,labels)"
   ]
  },
  {
   "cell_type": "code",
   "execution_count": 9,
   "id": "b7201548",
   "metadata": {},
   "outputs": [],
   "source": [
    "def plot_img(img):\n",
    "    npimg=img.numpy()\n",
    "    plt.imshow(np.transpose(npimg,(1,2,0)))\n",
    "    plt.show()"
   ]
  },
  {
   "cell_type": "markdown",
   "id": "35b045ef",
   "metadata": {},
   "source": [
    "# Preparing The CNN"
   ]
  },
  {
   "cell_type": "code",
   "execution_count": 10,
   "id": "88653566",
   "metadata": {},
   "outputs": [],
   "source": [
    "def evaluation(dataloader,model):\n",
    "    model.eval()\n",
    "    with torch.no_grad():\n",
    "        total,correct=0,0\n",
    "        for data in dataloader:\n",
    "            inputs,labels=data\n",
    "            inputs,labels=inputs.to(device),labels.to(device)\n",
    "            outputs=model(inputs)\n",
    "    #         print(outputs)\n",
    "    #         print(outputs,labels)\n",
    "            m = nn.Sigmoid()\n",
    "            outputs=m(outputs)\n",
    "            pred=outputs>=0.5\n",
    "            pred=pred.flatten()\n",
    "            total+=labels.size(0)\n",
    "            # labels=torch.add(labels,-1)\n",
    "            # print(pred,labels)\n",
    "    #         print(list(map(lambda a: classes[a],pred)),list(map(lambda a: classes[a],labels)))\n",
    "            correct+=(pred==labels).sum().item()\n",
    "    print(correct,total)\n",
    "    model.train()\n",
    "    return 100*correct/total"
   ]
  },
  {
   "cell_type": "code",
   "execution_count": 16,
   "id": "718bd39c",
   "metadata": {},
   "outputs": [],
   "source": [
    "class CNN(nn.Module):\n",
    "    def __init__(self):\n",
    "        super(CNN,self).__init__()\n",
    "        self.representation_network=nn.Sequential(\n",
    "            nn.Conv2d(3,32,3), \n",
    "            nn.ReLU(), \n",
    "            nn.MaxPool2d(kernel_size=2,stride=3),\n",
    "            nn.Dropout(p=0.2),\n",
    "            nn.Conv2d(32,32,3),\n",
    "            nn.ReLU(),\n",
    "            nn.MaxPool2d(kernel_size=2,stride=3),\n",
    "            nn.Dropout(p=0.2)\n",
    "        )\n",
    "        self.classification_network=nn.Sequential(\n",
    "            nn.Linear(18432,128),\n",
    "            nn.ReLU(),\n",
    "            nn.Dropout(p=0.2),\n",
    "            nn.Linear(128,1)\n",
    "        )\n",
    "    def forward(self,x):\n",
    "#         print(x.shape)\n",
    "        x=self.representation_network(x)\n",
    "#         print(x.shape)\n",
    "        # flattening of the vector=> same dimension of first index(batch size) , everythign else is flattened(-1)\n",
    "        x=x.view(x.size(0),-1)\n",
    "#        print(x.shape)\n",
    "        x=self.classification_network(x)\n",
    "#        print(x.shape)\n",
    "        return x"
   ]
  },
  {
   "cell_type": "code",
   "execution_count": null,
   "id": "d8fc2e02",
   "metadata": {},
   "outputs": [],
   "source": [
    "def train(net,dataloader,epochs=15):\n",
    "    loss_fn=nn.BCEWithLogitsLoss().to(device)\n",
    "    opt=optim.Adam(params=net.parameters())\n",
    "    for epoch in range(epochs):\n",
    "        for i,data in enumerate(dataloader,0):\n",
    "            inputs,labels=data\n",
    "            inputs,labels=inputs.to(device),labels.to(device)\n",
    "            opt.zero_grad()\n",
    "            outputs=net(inputs)\n",
    "            labels=labels.unsqueeze(-1)\n",
    "            labels = labels.type_as(outputs)\n",
    "    #         print(outputs)\n",
    "            loss=loss_fn(outputs,labels)\n",
    "            loss.backward()\n",
    "            opt.step()\n",
    "            torch.cuda.empty_cache()\n",
    "            del inputs,labels,outputs"
   ]
  },
  {
   "cell_type": "code",
   "execution_count": 17,
   "id": "7fdd1e11",
   "metadata": {},
   "outputs": [],
   "source": [
    "net = CNN()\n",
    "# net=torch.load(\"./coronaCNN.pt\")\n",
    "# net.load_state_dict(torch.load(\"./coronaCNN_State.pt\"))\n",
    "opt=optim.Adam(params=net.parameters())\n",
    "net=net.to(device)"
   ]
  },
  {
   "cell_type": "code",
   "execution_count": 18,
   "id": "8168113d",
   "metadata": {},
   "outputs": [
    {
     "name": "stdout",
     "output_type": "stream",
     "text": [
      "torch.Size([4, 1])\n"
     ]
    }
   ],
   "source": [
    "print(net(images.to(device)).shape)"
   ]
  },
  {
   "cell_type": "code",
   "execution_count": 19,
   "id": "1f95143d",
   "metadata": {},
   "outputs": [
    {
     "name": "stdout",
     "output_type": "stream",
     "text": [
      "iteration 0/1618.0, Loss=0.6591470837593079 \n",
      "iteration 100/1618.0, Loss=68.26841750741005 \n",
      "iteration 200/1618.0, Loss=128.39015713334084 \n",
      "iteration 300/1618.0, Loss=177.00568325817585 \n",
      "iteration 400/1618.0, Loss=220.0170859247446 \n",
      "iteration 500/1618.0, Loss=262.8177606090903 \n",
      "iteration 600/1618.0, Loss=302.1695932075381 \n",
      "iteration 700/1618.0, Loss=342.9611216150224 \n",
      "iteration 800/1618.0, Loss=385.62130435556173 \n",
      "iteration 900/1618.0, Loss=424.91487753205 \n",
      "iteration 1000/1618.0, Loss=461.89482205733657 \n",
      "iteration 1100/1618.0, Loss=495.4144021682441 \n",
      "iteration 1200/1618.0, Loss=534.6011643633246 \n",
      "iteration 1300/1618.0, Loss=566.1629699245095 \n",
      "iteration 1400/1618.0, Loss=600.67247691378 \n",
      "iteration 1500/1618.0, Loss=632.1327940905467 \n",
      "iteration 1600/1618.0, Loss=665.3698928570375 \n",
      "Epoch: 0/5, Loss=669.6395044093952\n"
     ]
    },
    {
     "data": {
      "image/png": "[encoded data removed]",
      "text/plain": [
       "<Figure size 432x288 with 1 Axes>"
      ]
     },
     "metadata": {
      "needs_background": "light"
     },
     "output_type": "display_data"
    },
    {
     "name": "stdout",
     "output_type": "stream",
     "text": [
      "iteration 0/1618.0, Loss=0.37604430317878723 \n",
      "iteration 100/1618.0, Loss=30.213077559135854 \n",
      "iteration 200/1618.0, Loss=56.67579428409226 \n",
      "iteration 300/1618.0, Loss=88.3678798743058 \n",
      "iteration 400/1618.0, Loss=121.16217092354782 \n",
      "iteration 500/1618.0, Loss=151.1508635461796 \n",
      "iteration 600/1618.0, Loss=186.4038468634244 \n",
      "iteration 700/1618.0, Loss=214.4776369794272 \n",
      "iteration 800/1618.0, Loss=244.4281298746355 \n",
      "iteration 900/1618.0, Loss=279.630730508361 \n",
      "iteration 1000/1618.0, Loss=313.817258086754 \n",
      "iteration 1100/1618.0, Loss=341.854491857579 \n",
      "iteration 1200/1618.0, Loss=373.4196114160586 \n",
      "iteration 1300/1618.0, Loss=404.30022326787 \n",
      "iteration 1400/1618.0, Loss=435.09832398523577 \n",
      "iteration 1500/1618.0, Loss=463.7493984720204 \n",
      "iteration 1600/1618.0, Loss=489.7650627773255 \n",
      "Epoch: 1/5, Loss=498.14403851889074\n"
     ]
    },
    {
     "data": {
      "image/png": "[encoded data removed]",
      "text/plain": [
       "<Figure size 432x288 with 1 Axes>"
      ]
     },
     "metadata": {
      "needs_background": "light"
     },
     "output_type": "display_data"
    },
    {
     "name": "stdout",
     "output_type": "stream",
     "text": [
      "iteration 0/1618.0, Loss=0.06420566886663437 \n",
      "iteration 100/1618.0, Loss=28.142546148970723 \n",
      "iteration 200/1618.0, Loss=52.841015906538814 \n",
      "iteration 300/1618.0, Loss=76.56291417311877 \n",
      "iteration 400/1618.0, Loss=101.64902490261011 \n",
      "iteration 500/1618.0, Loss=125.03149364888668 \n",
      "iteration 600/1618.0, Loss=150.62877760990523 \n",
      "iteration 700/1618.0, Loss=174.65948376781307 \n",
      "iteration 800/1618.0, Loss=198.96415709514986 \n",
      "iteration 900/1618.0, Loss=229.72165085404413 \n",
      "iteration 1000/1618.0, Loss=250.40314470481826 \n",
      "iteration 1100/1618.0, Loss=273.4426530900528 \n",
      "iteration 1200/1618.0, Loss=292.9528208494303 \n",
      "iteration 1300/1618.0, Loss=320.1808431330719 \n",
      "iteration 1400/1618.0, Loss=348.02214873727644 \n",
      "iteration 1500/1618.0, Loss=367.3416040898883 \n",
      "iteration 1600/1618.0, Loss=387.23800716514233 \n",
      "Epoch: 2/5, Loss=393.66090507491026\n"
     ]
    },
    {
     "data": {
      "image/png": "[encoded data removed]",
      "text/plain": [
       "<Figure size 432x288 with 1 Axes>"
      ]
     },
     "metadata": {
      "needs_background": "light"
     },
     "output_type": "display_data"
    },
    {
     "name": "stdout",
     "output_type": "stream",
     "text": [
      "iteration 0/1618.0, Loss=0.029890654608607292 \n",
      "iteration 100/1618.0, Loss=19.773211588384584 \n",
      "iteration 200/1618.0, Loss=44.01338167989161 \n",
      "iteration 300/1618.0, Loss=68.02268083335366 \n",
      "iteration 400/1618.0, Loss=87.55061754293274 \n",
      "iteration 500/1618.0, Loss=112.3669343983056 \n",
      "iteration 600/1618.0, Loss=130.84488840552513 \n",
      "iteration 700/1618.0, Loss=151.35110748035368 \n",
      "iteration 800/1618.0, Loss=168.1848626389401 \n",
      "iteration 900/1618.0, Loss=192.07122875138884 \n",
      "iteration 1000/1618.0, Loss=217.04358120070538 \n",
      "iteration 1100/1618.0, Loss=233.64328188404033 \n",
      "iteration 1200/1618.0, Loss=257.97982642763236 \n",
      "iteration 1300/1618.0, Loss=276.24684765859274 \n",
      "iteration 1400/1618.0, Loss=294.75624795019394 \n",
      "iteration 1500/1618.0, Loss=314.0812991593266 \n",
      "iteration 1600/1618.0, Loss=335.02004780945344 \n",
      "Epoch: 3/5, Loss=339.18928548553004\n"
     ]
    },
    {
     "data": {
      "image/png": "[encoded data removed]",
      "text/plain": [
       "<Figure size 432x288 with 1 Axes>"
      ]
     },
     "metadata": {
      "needs_background": "light"
     },
     "output_type": "display_data"
    },
    {
     "name": "stdout",
     "output_type": "stream",
     "text": [
      "iteration 0/1618.0, Loss=0.029747923836112022 \n",
      "iteration 100/1618.0, Loss=17.381461842684075 \n",
      "iteration 200/1618.0, Loss=35.06173384777503 \n",
      "iteration 300/1618.0, Loss=54.16984503582353 \n",
      "iteration 400/1618.0, Loss=69.08339845307637 \n",
      "iteration 500/1618.0, Loss=84.20260579296155 \n",
      "iteration 600/1618.0, Loss=100.78425722039538 \n",
      "iteration 700/1618.0, Loss=119.03251823448227 \n",
      "iteration 800/1618.0, Loss=135.48066013204516 \n",
      "iteration 900/1618.0, Loss=152.39034079533303 \n",
      "iteration 1000/1618.0, Loss=168.5104228053533 \n",
      "iteration 1100/1618.0, Loss=185.64700610240106 \n",
      "iteration 1200/1618.0, Loss=205.59423708505346 \n",
      "iteration 1300/1618.0, Loss=224.94623371001217 \n",
      "iteration 1400/1618.0, Loss=247.19849118671846 \n",
      "iteration 1500/1618.0, Loss=265.97396737959934 \n",
      "iteration 1600/1618.0, Loss=282.98856242062175 \n",
      "Epoch: 4/5, Loss=285.30028149232385\n"
     ]
    },
    {
     "data": {
      "image/png": "[encoded data removed]",
      "text/plain": [
       "<Figure size 432x288 with 1 Axes>"
      ]
     },
     "metadata": {
      "needs_background": "light"
     },
     "output_type": "display_data"
    },
    {
     "data": {
      "application/javascript": [
       "$(document).ready(\n",
       "    function() {\n",
       "        function appendUniqueDiv(){\n",
       "            // append a div with our uuid so we can check that it's already\n",
       "            // been sent and avoid duplicates on page reload\n",
       "            var notifiedDiv = document.createElement(\"div\")\n",
       "            notifiedDiv.id = \"45f13afe-11ca-4339-9b91-009c24f2f2dc\"\n",
       "            element.append(notifiedDiv)\n",
       "        }\n",
       "\n",
       "        // only send notifications if the pageload is complete; this will\n",
       "        // help stop extra notifications when a saved notebook is loaded,\n",
       "        // which during testing gives us state \"interactive\", not \"complete\"\n",
       "        if (document.readyState === 'complete') {\n",
       "            // check for the div that signifies that the notification\n",
       "            // was already sent\n",
       "            if (document.getElementById(\"45f13afe-11ca-4339-9b91-009c24f2f2dc\") === null) {\n",
       "                var notificationPayload = {\"requireInteraction\": false, \"icon\": \"/static/base/images/favicon.ico\", \"body\": \"Cell has completed exec\"};\n",
       "                if (Notification.permission !== 'denied') {\n",
       "                    if (Notification.permission !== 'granted') { \n",
       "                        Notification.requestPermission(function (permission) {\n",
       "                            if(!('permission' in Notification)) {\n",
       "                                Notification.permission = permission\n",
       "                            }\n",
       "                        })\n",
       "                    }\n",
       "                    if (Notification.permission === 'granted') {\n",
       "                    var notification = new Notification(\"Jupyter Notebook\", notificationPayload)\n",
       "                    appendUniqueDiv()\n",
       "                    notification.onclick = function () {\n",
       "                        window.focus();\n",
       "                        this.close();\n",
       "                        };\n",
       "                    } \n",
       "                }     \n",
       "            }\n",
       "        }\n",
       "    }\n",
       ")\n"
      ],
      "text/plain": [
       "<IPython.core.display.Javascript object>"
      ]
     },
     "metadata": {},
     "output_type": "display_data"
    }
   ],
   "source": [
    "%%notify -m \"Cell has completed exec\"\n",
    "loss_arr=[]\n",
    "loss_epoch=[]\n",
    "epochs=5\n",
    "loss_fn = nn.BCEWithLogitsLoss().to(device)\n",
    "best_model_loss,best_model=1000000,net.state_dict()\n",
    "n_iters=np.ceil(len(trainset)/batch_size)\n",
    "for epoch in range(epochs):\n",
    "    loss_this_epoch=0\n",
    "    loss_arr=[]\n",
    "    for i,data in enumerate(trainloader,0):\n",
    "        inputs,labels=data\n",
    "        inputs,labels=inputs.to(device),labels.to(device)\n",
    "        opt.zero_grad()\n",
    "        outputs=net(inputs)\n",
    "        labels=labels.unsqueeze(-1)\n",
    "        labels = labels.type_as(outputs)\n",
    "#         print(outputs)\n",
    "        loss=loss_fn(outputs,labels)\n",
    "        loss_this_epoch+=loss.item()\n",
    "        loss_arr.append(loss.item())\n",
    "        loss.backward()\n",
    "        opt.step()\n",
    "        torch.cuda.empty_cache()\n",
    "        del inputs,labels,outputs\n",
    "        if i%100 == 0:\n",
    "            print(f'iteration {i}/{n_iters}, Loss={sum(loss_arr)} ')\n",
    "#             plt.plot(loss_arr)\n",
    "#             plt.show()\n",
    "    if loss_this_epoch < best_model_loss:\n",
    "            best_model_loss=loss_this_epoch\n",
    "            best_model=copy.deepcopy(net.state_dict())\n",
    "    loss_epoch.append(loss_this_epoch)\n",
    "    print(f'Epoch: {epoch}/{epochs}, Loss={loss_this_epoch}')\n",
    "    plt.plot(loss_epoch)\n",
    "    plt.show()"
   ]
  },
  {
   "cell_type": "code",
   "execution_count": 20,
   "id": "4bba85eb",
   "metadata": {},
   "outputs": [
    {
     "name": "stdout",
     "output_type": "stream",
     "text": [
      "1465 1618\n",
      "90.54388133498146\n"
     ]
    },
    {
     "data": {
      "application/javascript": [
       "$(document).ready(\n",
       "    function() {\n",
       "        function appendUniqueDiv(){\n",
       "            // append a div with our uuid so we can check that it's already\n",
       "            // been sent and avoid duplicates on page reload\n",
       "            var notifiedDiv = document.createElement(\"div\")\n",
       "            notifiedDiv.id = \"0afc2a6f-eddb-48f4-9b90-ebc54800d880\"\n",
       "            element.append(notifiedDiv)\n",
       "        }\n",
       "\n",
       "        // only send notifications if the pageload is complete; this will\n",
       "        // help stop extra notifications when a saved notebook is loaded,\n",
       "        // which during testing gives us state \"interactive\", not \"complete\"\n",
       "        if (document.readyState === 'complete') {\n",
       "            // check for the div that signifies that the notification\n",
       "            // was already sent\n",
       "            if (document.getElementById(\"0afc2a6f-eddb-48f4-9b90-ebc54800d880\") === null) {\n",
       "                var notificationPayload = {\"requireInteraction\": false, \"icon\": \"/static/base/images/favicon.ico\", \"body\": \"completed\"};\n",
       "                if (Notification.permission !== 'denied') {\n",
       "                    if (Notification.permission !== 'granted') { \n",
       "                        Notification.requestPermission(function (permission) {\n",
       "                            if(!('permission' in Notification)) {\n",
       "                                Notification.permission = permission\n",
       "                            }\n",
       "                        })\n",
       "                    }\n",
       "                    if (Notification.permission === 'granted') {\n",
       "                    var notification = new Notification(\"Jupyter Notebook\", notificationPayload)\n",
       "                    appendUniqueDiv()\n",
       "                    notification.onclick = function () {\n",
       "                        window.focus();\n",
       "                        this.close();\n",
       "                        };\n",
       "                    } \n",
       "                }     \n",
       "            }\n",
       "        }\n",
       "    }\n",
       ")\n"
      ],
      "text/plain": [
       "<IPython.core.display.Javascript object>"
      ]
     },
     "metadata": {},
     "output_type": "display_data"
    }
   ],
   "source": [
    "%%notify -m \"completed\"\n",
    "print(evaluation(testloader,net))"
   ]
  },
  {
   "cell_type": "code",
   "execution_count": 22,
   "id": "b24c286d",
   "metadata": {},
   "outputs": [],
   "source": [
    "torch.save(net.state_dict(),\"./py3/coronaCNN_State.pt\")\n",
    "torch.save(net,\"./py3/coronaCNN.pt\")"
   ]
  },
  {
   "cell_type": "markdown",
   "id": "d4210080",
   "metadata": {},
   "source": [
    "Test Accuracy and K-Fold Cross Validation"
   ]
  },
  {
   "cell_type": "markdown",
   "id": "3ca18dd0",
   "metadata": {},
   "source": [
    "## Cross Validation"
   ]
  },
  {
   "cell_type": "code",
   "execution_count": 23,
   "id": "d8c36ae4",
   "metadata": {},
   "outputs": [],
   "source": [
    "from sklearn.model_selection import KFold"
   ]
  },
  {
   "cell_type": "code",
   "execution_count": 24,
   "id": "07902d5d",
   "metadata": {},
   "outputs": [],
   "source": [
    "def reset_weights(m):\n",
    "    '''\n",
    "    Try resetting model weights to avoid\n",
    "    weight leakage.\n",
    "    '''\n",
    "    for layer in m.children():\n",
    "        if hasattr(layer, 'reset_parameters'):\n",
    "            print(f'Reset trainable parameters of layer = {layer}')\n",
    "            layer.reset_parameters()"
   ]
  },
  {
   "cell_type": "code",
   "execution_count": 25,
   "id": "55103f54",
   "metadata": {},
   "outputs": [],
   "source": [
    "def k_fold_cv(model,dataset,loss_function,k_folds=5,epochs=10):\n",
    "    kfold = KFold(n_splits=k_folds, shuffle=True)\n",
    "    # Initialize optimizer\n",
    "    results = {}\n",
    "    for fold, (train_ids, test_ids) in enumerate(kfold.split(dataset)): \n",
    "        print(f'FOLD {fold}')\n",
    "        print('--------------------------------')\n",
    "\n",
    "        # Sample elements randomly from a given list of ids, no replacement.\n",
    "        train_subsampler = torch.utils.data.SubsetRandomSampler(train_ids)\n",
    "        test_subsampler = torch.utils.data.SubsetRandomSampler(test_ids)\n",
    "        # Define data loaders for training and testing data in this fold\n",
    "        trainloader = torch.utils.data.DataLoader(\n",
    "              dataset, \n",
    "              batch_size=batch_size, sampler=train_subsampler)\n",
    "        testloader = torch.utils.data.DataLoader(\n",
    "              dataset,\n",
    "              batch_size=batch_size, sampler=test_subsampler)\n",
    "\n",
    "        # Init the neural network\n",
    "        network = model\n",
    "        network.apply(reset_weights)\n",
    "        optimizer = optim.Adam(network.parameters())\n",
    "        # Run the training loop for defined number of epochs\n",
    "        for epoch in range(0, epochs):\n",
    "\n",
    "            # Print epoch\n",
    "            print(f'Starting epoch {epoch+1}')\n",
    "\n",
    "            # Set current loss value\n",
    "            current_loss = 0.0\n",
    "\n",
    "            # Iterate over the DataLoader for training data\n",
    "            for i, data in enumerate(trainloader, 0):\n",
    "\n",
    "                # Get inputs\n",
    "                inputs, targets = data\n",
    "                inputs = inputs.to(device)\n",
    "                targets = targets.to(device)\n",
    "                # Zero the gradients\n",
    "                optimizer.zero_grad()\n",
    "\n",
    "                # Perform forward pass\n",
    "                outputs = network(inputs)\n",
    "                targets = targets.unsqueeze(-1)\n",
    "                targets = targets.type_as(outputs)\n",
    "                # Compute loss\n",
    "                loss = loss_function(outputs, targets)\n",
    "\n",
    "                # Perform backward pass\n",
    "                loss.backward()\n",
    "\n",
    "                # Perform optimization\n",
    "                optimizer.step()\n",
    "\n",
    "                # Print statistics\n",
    "                current_loss += loss.item()\n",
    "                if i % 500 == 499:\n",
    "                    print('Loss after mini-batch %5d: %.3f' %\n",
    "                      (i + 1, current_loss / 500))\n",
    "                    current_loss = 0.0\n",
    "\n",
    "        # Process is complete.\n",
    "        print('Training process has finished. Saving the trained model.')\n",
    "        save_path = f'./py3/CNN-fold-{fold}.pth'\n",
    "        torch.save(network, save_path)\n",
    "\n",
    "        # Evaluation for this fold\n",
    "        correct, total = 0, 0\n",
    "        with torch.no_grad():\n",
    "\n",
    "            # Iterate over the test data and generate predictions\n",
    "            for i, data in enumerate(testloader, 0):\n",
    "                # Get inputs\n",
    "                inputs, targets = data\n",
    "                inputs,targets=inputs.to(device),targets.to(device)\n",
    "                # Generate outputs\n",
    "                outputs = network(inputs)\n",
    "                m = nn.Sigmoid()\n",
    "                outputs=m(outputs)\n",
    "                pred=outputs>=0.5\n",
    "                pred=pred.flatten()\n",
    "                # Set total and correct\n",
    "                total += targets.size(0)\n",
    "                correct += (pred == targets).sum().item()\n",
    "\n",
    "            # Print accuracy\n",
    "            print('Accuracy for fold %d: %d %%' % (fold, 100.0 * correct / total))\n",
    "            print('--------------------------------')\n",
    "            results[fold] = 100.0 * (correct / total)\n",
    "\n",
    "    # Print fold results\n",
    "    print(f'K-FOLD CROSS VALIDATION RESULTS FOR {k_folds} FOLDS')\n",
    "    print('--------------------------------')\n",
    "    sum = 0.0\n",
    "    for key, value in results.items():\n",
    "        print(f'Fold {key}: {value} %')\n",
    "        sum += value\n",
    "    print(f'Average: {sum/len(results.items())} %')"
   ]
  },
  {
   "cell_type": "code",
   "execution_count": null,
   "id": "51e2b4bc",
   "metadata": {},
   "outputs": [],
   "source": [
    "def reset_weights(m):\n",
    "    '''\n",
    "    Try resetting model weights to avoid\n",
    "    weight leakage.\n",
    "    '''\n",
    "    net.load_state_dict(torch.load(\"./py3/coronaCNN_State.pt\"))"
   ]
  },
  {
   "cell_type": "code",
   "execution_count": 26,
   "id": "874126e3",
   "metadata": {},
   "outputs": [
    {
     "name": "stdout",
     "output_type": "stream",
     "text": [
      "FOLD 0\n",
      "--------------------------------\n",
      "Reset trainable parameters of layer = Conv2d(3, 32, kernel_size=(3, 3), stride=(1, 1))\n",
      "Reset trainable parameters of layer = Conv2d(32, 32, kernel_size=(3, 3), stride=(1, 1))\n",
      "Reset trainable parameters of layer = Linear(in_features=18432, out_features=128, bias=True)\n",
      "Reset trainable parameters of layer = Linear(in_features=128, out_features=1, bias=True)\n",
      "Starting epoch 1\n",
      "Loss after mini-batch   500: 0.542\n",
      "Loss after mini-batch  1000: 0.431\n",
      "Starting epoch 2\n",
      "Loss after mini-batch   500: 0.321\n",
      "Loss after mini-batch  1000: 0.293\n",
      "Starting epoch 3\n",
      "Loss after mini-batch   500: 0.264\n",
      "Loss after mini-batch  1000: 0.228\n",
      "Starting epoch 4\n",
      "Loss after mini-batch   500: 0.219\n",
      "Loss after mini-batch  1000: 0.195\n",
      "Starting epoch 5\n",
      "Loss after mini-batch   500: 0.170\n",
      "Loss after mini-batch  1000: 0.195\n",
      "Starting epoch 6\n",
      "Loss after mini-batch   500: 0.166\n",
      "Loss after mini-batch  1000: 0.157\n",
      "Starting epoch 7\n",
      "Loss after mini-batch   500: 0.139\n",
      "Loss after mini-batch  1000: 0.127\n",
      "Starting epoch 8\n",
      "Loss after mini-batch   500: 0.125\n",
      "Loss after mini-batch  1000: 0.134\n",
      "Starting epoch 9\n",
      "Loss after mini-batch   500: 0.114\n",
      "Loss after mini-batch  1000: 0.114\n",
      "Starting epoch 10\n",
      "Loss after mini-batch   500: 0.079\n",
      "Loss after mini-batch  1000: 0.113\n",
      "Training process has finished. Saving the trained model.\n",
      "Accuracy for fold 0: 91 %\n",
      "--------------------------------\n",
      "FOLD 1\n",
      "--------------------------------\n",
      "Reset trainable parameters of layer = Conv2d(3, 32, kernel_size=(3, 3), stride=(1, 1))\n",
      "Reset trainable parameters of layer = Conv2d(32, 32, kernel_size=(3, 3), stride=(1, 1))\n",
      "Reset trainable parameters of layer = Linear(in_features=18432, out_features=128, bias=True)\n",
      "Reset trainable parameters of layer = Linear(in_features=128, out_features=1, bias=True)\n",
      "Starting epoch 1\n",
      "Loss after mini-batch   500: 0.539\n",
      "Loss after mini-batch  1000: 0.394\n",
      "Starting epoch 2\n",
      "Loss after mini-batch   500: 0.328\n",
      "Loss after mini-batch  1000: 0.306\n",
      "Starting epoch 3\n",
      "Loss after mini-batch   500: 0.272\n",
      "Loss after mini-batch  1000: 0.249\n",
      "Starting epoch 4\n",
      "Loss after mini-batch   500: 0.217\n",
      "Loss after mini-batch  1000: 0.231\n",
      "Starting epoch 5\n",
      "Loss after mini-batch   500: 0.179\n",
      "Loss after mini-batch  1000: 0.206\n",
      "Starting epoch 6\n",
      "Loss after mini-batch   500: 0.157\n",
      "Loss after mini-batch  1000: 0.175\n",
      "Starting epoch 7\n",
      "Loss after mini-batch   500: 0.147\n",
      "Loss after mini-batch  1000: 0.138\n",
      "Starting epoch 8\n",
      "Loss after mini-batch   500: 0.125\n",
      "Loss after mini-batch  1000: 0.147\n",
      "Starting epoch 9\n",
      "Loss after mini-batch   500: 0.107\n",
      "Loss after mini-batch  1000: 0.124\n",
      "Starting epoch 10\n",
      "Loss after mini-batch   500: 0.106\n",
      "Loss after mini-batch  1000: 0.125\n",
      "Training process has finished. Saving the trained model.\n",
      "Accuracy for fold 1: 90 %\n",
      "--------------------------------\n",
      "FOLD 2\n",
      "--------------------------------\n",
      "Reset trainable parameters of layer = Conv2d(3, 32, kernel_size=(3, 3), stride=(1, 1))\n",
      "Reset trainable parameters of layer = Conv2d(32, 32, kernel_size=(3, 3), stride=(1, 1))\n",
      "Reset trainable parameters of layer = Linear(in_features=18432, out_features=128, bias=True)\n",
      "Reset trainable parameters of layer = Linear(in_features=128, out_features=1, bias=True)\n",
      "Starting epoch 1\n",
      "Loss after mini-batch   500: 0.598\n",
      "Loss after mini-batch  1000: 0.428\n",
      "Starting epoch 2\n",
      "Loss after mini-batch   500: 0.343\n",
      "Loss after mini-batch  1000: 0.318\n",
      "Starting epoch 3\n",
      "Loss after mini-batch   500: 0.245\n",
      "Loss after mini-batch  1000: 0.281\n",
      "Starting epoch 4\n",
      "Loss after mini-batch   500: 0.216\n",
      "Loss after mini-batch  1000: 0.192\n",
      "Starting epoch 5\n",
      "Loss after mini-batch   500: 0.182\n",
      "Loss after mini-batch  1000: 0.183\n",
      "Starting epoch 6\n",
      "Loss after mini-batch   500: 0.143\n",
      "Loss after mini-batch  1000: 0.176\n",
      "Starting epoch 7\n",
      "Loss after mini-batch   500: 0.153\n",
      "Loss after mini-batch  1000: 0.139\n",
      "Starting epoch 8\n",
      "Loss after mini-batch   500: 0.138\n",
      "Loss after mini-batch  1000: 0.139\n",
      "Starting epoch 9\n",
      "Loss after mini-batch   500: 0.121\n",
      "Loss after mini-batch  1000: 0.113\n",
      "Starting epoch 10\n",
      "Loss after mini-batch   500: 0.099\n",
      "Loss after mini-batch  1000: 0.114\n",
      "Training process has finished. Saving the trained model.\n",
      "Accuracy for fold 2: 92 %\n",
      "--------------------------------\n",
      "FOLD 3\n",
      "--------------------------------\n",
      "Reset trainable parameters of layer = Conv2d(3, 32, kernel_size=(3, 3), stride=(1, 1))\n",
      "Reset trainable parameters of layer = Conv2d(32, 32, kernel_size=(3, 3), stride=(1, 1))\n",
      "Reset trainable parameters of layer = Linear(in_features=18432, out_features=128, bias=True)\n",
      "Reset trainable parameters of layer = Linear(in_features=128, out_features=1, bias=True)\n",
      "Starting epoch 1\n",
      "Loss after mini-batch   500: 0.566\n",
      "Loss after mini-batch  1000: 0.401\n",
      "Starting epoch 2\n",
      "Loss after mini-batch   500: 0.323\n",
      "Loss after mini-batch  1000: 0.305\n",
      "Starting epoch 3\n",
      "Loss after mini-batch   500: 0.254\n",
      "Loss after mini-batch  1000: 0.257\n",
      "Starting epoch 4\n",
      "Loss after mini-batch   500: 0.223\n",
      "Loss after mini-batch  1000: 0.225\n",
      "Starting epoch 5\n",
      "Loss after mini-batch   500: 0.184\n",
      "Loss after mini-batch  1000: 0.187\n",
      "Starting epoch 6\n",
      "Loss after mini-batch   500: 0.147\n",
      "Loss after mini-batch  1000: 0.177\n",
      "Starting epoch 7\n",
      "Loss after mini-batch   500: 0.130\n",
      "Loss after mini-batch  1000: 0.142\n",
      "Starting epoch 8\n",
      "Loss after mini-batch   500: 0.115\n",
      "Loss after mini-batch  1000: 0.111\n",
      "Starting epoch 9\n",
      "Loss after mini-batch   500: 0.115\n",
      "Loss after mini-batch  1000: 0.117\n",
      "Starting epoch 10\n",
      "Loss after mini-batch   500: 0.093\n",
      "Loss after mini-batch  1000: 0.119\n",
      "Training process has finished. Saving the trained model.\n",
      "Accuracy for fold 3: 92 %\n",
      "--------------------------------\n",
      "FOLD 4\n",
      "--------------------------------\n",
      "Reset trainable parameters of layer = Conv2d(3, 32, kernel_size=(3, 3), stride=(1, 1))\n",
      "Reset trainable parameters of layer = Conv2d(32, 32, kernel_size=(3, 3), stride=(1, 1))\n",
      "Reset trainable parameters of layer = Linear(in_features=18432, out_features=128, bias=True)\n",
      "Reset trainable parameters of layer = Linear(in_features=128, out_features=1, bias=True)\n",
      "Starting epoch 1\n",
      "Loss after mini-batch   500: 0.625\n",
      "Loss after mini-batch  1000: 0.509\n",
      "Starting epoch 2\n",
      "Loss after mini-batch   500: 0.367\n",
      "Loss after mini-batch  1000: 0.346\n",
      "Starting epoch 3\n",
      "Loss after mini-batch   500: 0.273\n",
      "Loss after mini-batch  1000: 0.252\n",
      "Starting epoch 4\n",
      "Loss after mini-batch   500: 0.241\n",
      "Loss after mini-batch  1000: 0.245\n",
      "Starting epoch 5\n",
      "Loss after mini-batch   500: 0.184\n",
      "Loss after mini-batch  1000: 0.212\n",
      "Starting epoch 6\n",
      "Loss after mini-batch   500: 0.155\n",
      "Loss after mini-batch  1000: 0.175\n",
      "Starting epoch 7\n",
      "Loss after mini-batch   500: 0.150\n",
      "Loss after mini-batch  1000: 0.152\n",
      "Starting epoch 8\n",
      "Loss after mini-batch   500: 0.139\n",
      "Loss after mini-batch  1000: 0.148\n",
      "Starting epoch 9\n",
      "Loss after mini-batch   500: 0.106\n",
      "Loss after mini-batch  1000: 0.144\n",
      "Starting epoch 10\n",
      "Loss after mini-batch   500: 0.123\n",
      "Loss after mini-batch  1000: 0.114\n",
      "Training process has finished. Saving the trained model.\n",
      "Accuracy for fold 4: 91 %\n",
      "--------------------------------\n",
      "K-FOLD CROSS VALIDATION RESULTS FOR 5 FOLDS\n",
      "--------------------------------\n",
      "Fold 0: 91.42194744976815 %\n",
      "Fold 1: 90.64914992272026 %\n",
      "Fold 2: 92.04018547140649 %\n",
      "Fold 3: 92.42658423493046 %\n",
      "Fold 4: 91.34466769706336 %\n",
      "Average: 91.57650695517773 %\n"
     ]
    },
    {
     "data": {
      "application/javascript": [
       "$(document).ready(\n",
       "    function() {\n",
       "        function appendUniqueDiv(){\n",
       "            // append a div with our uuid so we can check that it's already\n",
       "            // been sent and avoid duplicates on page reload\n",
       "            var notifiedDiv = document.createElement(\"div\")\n",
       "            notifiedDiv.id = \"667eb19e-da9d-4d7c-8f21-bdbbdeb67de4\"\n",
       "            element.append(notifiedDiv)\n",
       "        }\n",
       "\n",
       "        // only send notifications if the pageload is complete; this will\n",
       "        // help stop extra notifications when a saved notebook is loaded,\n",
       "        // which during testing gives us state \"interactive\", not \"complete\"\n",
       "        if (document.readyState === 'complete') {\n",
       "            // check for the div that signifies that the notification\n",
       "            // was already sent\n",
       "            if (document.getElementById(\"667eb19e-da9d-4d7c-8f21-bdbbdeb67de4\") === null) {\n",
       "                var notificationPayload = {\"requireInteraction\": false, \"icon\": \"/static/base/images/favicon.ico\", \"body\": \"Completed\"};\n",
       "                if (Notification.permission !== 'denied') {\n",
       "                    if (Notification.permission !== 'granted') { \n",
       "                        Notification.requestPermission(function (permission) {\n",
       "                            if(!('permission' in Notification)) {\n",
       "                                Notification.permission = permission\n",
       "                            }\n",
       "                        })\n",
       "                    }\n",
       "                    if (Notification.permission === 'granted') {\n",
       "                    var notification = new Notification(\"Jupyter Notebook\", notificationPayload)\n",
       "                    appendUniqueDiv()\n",
       "                    notification.onclick = function () {\n",
       "                        window.focus();\n",
       "                        this.close();\n",
       "                        };\n",
       "                    } \n",
       "                }     \n",
       "            }\n",
       "        }\n",
       "    }\n",
       ")\n"
      ],
      "text/plain": [
       "<IPython.core.display.Javascript object>"
      ]
     },
     "metadata": {},
     "output_type": "display_data"
    }
   ],
   "source": [
    "%%notify -m \"Completed\"\n",
    "net=CNN().to(device)\n",
    "loss_fn=nn.BCEWithLogitsLoss().to(device)\n",
    "data_set=trainset\n",
    "k_fold_cv(net,data_set,loss_fn,epochs=10)"
   ]
  },
  {
   "cell_type": "code",
   "execution_count": null,
   "id": "cb6023e4",
   "metadata": {},
   "outputs": [],
   "source": [
    "reset_weights(net)\n",
    "train(net,trainloader)"
   ]
  },
  {
   "cell_type": "code",
   "execution_count": 27,
   "id": "592204c0",
   "metadata": {},
   "outputs": [
    {
     "name": "stdout",
     "output_type": "stream",
     "text": [
      "1486 1618\n"
     ]
    },
    {
     "data": {
      "text/plain": [
       "91.84177997527811"
      ]
     },
     "execution_count": 27,
     "metadata": {},
     "output_type": "execute_result"
    }
   ],
   "source": [
    "evaluation(testloader,net)"
   ]
  },
  {
   "cell_type": "code",
   "execution_count": 28,
   "id": "ecd239db",
   "metadata": {},
   "outputs": [],
   "source": [
    "torch.save(net,\"./CNN5.pt\")"
   ]
  },
  {
   "cell_type": "code",
   "execution_count": 10,
   "id": "828e5fd9",
   "metadata": {},
   "outputs": [],
   "source": [
    "def report(dataloader,model):\n",
    "    y_true,y_pred=torch.tensor([]),torch.tensor([])\n",
    "    model.eval()\n",
    "    with torch.no_grad():\n",
    "        total,correct=0,0\n",
    "        for data in dataloader:\n",
    "            inputs,labels=data\n",
    "            inputs,labels=inputs.to(device),labels.to(device)\n",
    "            outputs=model(inputs)\n",
    "    #         print(outputs)\n",
    "    #         print(outputs,labels)\n",
    "            m = nn.Sigmoid()\n",
    "            outputs=m(outputs)\n",
    "            pred=outputs>=0.5\n",
    "            pred=pred.flatten()\n",
    "            y_true=torch.cat((y_true,copy.deepcopy(labels.cpu())),0)\n",
    "            y_pred=torch.cat((y_pred,copy.deepcopy(pred.cpu())),0)\n",
    "#             print(y_pred,y_true,y_pred==y_true,pred==labels)\n",
    "            total+=labels.size(0)\n",
    "            # labels=torch.add(labels,-1)\n",
    "            # print(pred,labels)\n",
    "    #         print(list(map(lambda a: classes[a],pred)),list(map(lambda a: classes[a],labels)))\n",
    "            correct+=(pred==labels).sum().item()\n",
    "#             print((pred==labels).sum())\n",
    "    print(\"Accuracy: \",accuracy_score(y_true,y_pred))\n",
    "    print(\"Precision: \",precision_score(y_true,y_pred))\n",
    "    print(\"Recall: \",recall_score(y_true,y_pred))\n",
    "    print(\"F1-Score: \",f1_score(y_true,y_pred))\n",
    "    print(\"AUC: \",roc_auc_score(y_true,y_pred))\n",
    "    print(correct,total)\n",
    "#     print(y_true,y_pred)\n",
    "    y_pred=y_pred.flatten()\n",
    "    y_true=y_true.flatten()\n",
    "#     print(classification_report(y_true, y_pred))\n",
    "    \n",
    "    model.train()\n",
    "    return 100*correct/total"
   ]
  },
  {
   "cell_type": "code",
   "execution_count": 11,
   "id": "ca16454d",
   "metadata": {},
   "outputs": [],
   "source": [
    "from sklearn.metrics import confusion_matrix, classification_report, accuracy_score, f1_score, precision_score, recall_score, roc_auc_score"
   ]
  },
  {
   "cell_type": "code",
   "execution_count": 12,
   "id": "10b3040f",
   "metadata": {},
   "outputs": [
    {
     "name": "stdout",
     "output_type": "stream",
     "text": [
      "Accuracy:  0.9202719406674907\n",
      "Precision:  0.9196102314250914\n",
      "Recall:  0.9229828850855746\n",
      "F1-Score:  0.9212934716290421\n",
      "AUC:  0.9202414425427873\n",
      "1489 1618\n"
     ]
    },
    {
     "data": {
      "text/plain": [
       "92.02719406674908"
      ]
     },
     "execution_count": 12,
     "metadata": {},
     "output_type": "execute_result"
    }
   ],
   "source": [
    "report(testloader,net)"
   ]
  },
  {
   "cell_type": "code",
   "execution_count": null,
   "id": "a31cd27c",
   "metadata": {},
   "outputs": [],
   "source": []
  }
 ],
 "metadata": {
  "kernelspec": {
   "display_name": "Python 3",
   "language": "python",
   "name": "python3"
  },
  "language_info": {
   "codemirror_mode": {
    "name": "ipython",
    "version": 3
   },
   "file_extension": ".py",
   "mimetype": "text/x-python",
   "name": "python",
   "nbconvert_exporter": "python",
   "pygments_lexer": "ipython3",
   "version": "3.8.8"
  }
 },
 "nbformat": 4,
 "nbformat_minor": 5
}
