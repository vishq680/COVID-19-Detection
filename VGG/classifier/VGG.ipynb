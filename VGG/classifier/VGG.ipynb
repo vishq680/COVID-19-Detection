{
 "cells": [
  {
   "cell_type": "code",
   "execution_count": 1,
   "id": "725169f9",
   "metadata": {},
   "outputs": [
    {
     "data": {
      "application/javascript": [
       "if (!(\"Notification\" in window)) {\n",
       "    alert(\"This browser does not support desktop notifications, so the %%notify magic will not work.\");\n",
       "} else if (Notification.permission !== 'granted' && Notification.permission !== 'denied') {\n",
       "    Notification.requestPermission(function (permission) {\n",
       "        if(!('permission' in Notification)) {\n",
       "            Notification.permission = permission;\n",
       "        }\n",
       "    })\n",
       "}\n"
      ],
      "text/plain": [
       "<IPython.core.display.Javascript object>"
      ]
     },
     "metadata": {},
     "output_type": "display_data"
    }
   ],
   "source": [
    "import os\n",
    "import torch\n",
    "from torch import nn\n",
    "import torch.nn.functional as F\n",
    "from torchvision import transforms\n",
    "import torchvision\n",
    "import torch.optim as optim\n",
    "import pytorch_lightning as pl\n",
    "import copy\n",
    "from torchvision import models\n",
    "import matplotlib.pyplot as plt\n",
    "import numpy as np\n",
    "import torchmetrics\n",
    "%load_ext jupyternotify"
   ]
  },
  {
   "cell_type": "code",
   "execution_count": 2,
   "id": "1ed2b756",
   "metadata": {},
   "outputs": [
    {
     "name": "stdout",
     "output_type": "stream",
     "text": [
      "cuda:0\n"
     ]
    }
   ],
   "source": [
    "device = torch.device(\"cuda:0\" if torch.cuda.is_available() else \"cpu\")\n",
    "# device=torch.device(\"cpu\")\n",
    "print(device)"
   ]
  },
  {
   "cell_type": "markdown",
   "id": "81050abd",
   "metadata": {},
   "source": [
    "# VGG"
   ]
  },
  {
   "cell_type": "markdown",
   "id": "508b5c12",
   "metadata": {},
   "source": [
    "## Preparing Dataset"
   ]
  },
  {
   "cell_type": "code",
   "execution_count": 3,
   "id": "f4c2b1fa",
   "metadata": {},
   "outputs": [],
   "source": [
    "classes=['Covid','No Covid']"
   ]
  },
  {
   "cell_type": "code",
   "execution_count": 4,
   "id": "2807912b",
   "metadata": {},
   "outputs": [],
   "source": [
    "num_classes=2\n",
    "batch_size=4"
   ]
  },
  {
   "cell_type": "code",
   "execution_count": 5,
   "id": "5c604ae6",
   "metadata": {},
   "outputs": [
    {
     "name": "stdout",
     "output_type": "stream",
     "text": [
      "Dataset ImageFolder\n",
      "    Number of datapoints: 8088\n",
      "    Root location: ./data\n",
      "    StandardTransform\n",
      "Transform: Compose(\n",
      "               ToTensor()\n",
      "               Resize(size=[227, 227], interpolation=bilinear)\n",
      "           )\n"
     ]
    }
   ],
   "source": [
    "dataset = torchvision.datasets.ImageFolder(root=\"./data\",transform=transforms.Compose([\n",
    "                                                            transforms.ToTensor(),\n",
    "                                                            transforms.Resize([227,227]),\n",
    "#                                                             transforms.Normalize((0.5,0.5,0.5),(0.5,0.5,0.5))\n",
    "                                                            ]))\n",
    "print(dataset)"
   ]
  },
  {
   "cell_type": "code",
   "execution_count": 6,
   "id": "f181a98f",
   "metadata": {},
   "outputs": [
    {
     "name": "stdout",
     "output_type": "stream",
     "text": [
      "8088\n"
     ]
    }
   ],
   "source": [
    "print(len(dataset))\n",
    "trainset,testset=torch.utils.data.random_split(dataset,[round(0.8*len(dataset)),round(0.2*len(dataset))],generator=torch.Generator().manual_seed(42))\n",
    "trainloader=torch.utils.data.DataLoader(trainset,batch_size=batch_size,shuffle=True)\n",
    "testloader=torch.utils.data.DataLoader(testset,batch_size=batch_size,shuffle=False)"
   ]
  },
  {
   "cell_type": "code",
   "execution_count": 7,
   "id": "4eafe0a6",
   "metadata": {},
   "outputs": [],
   "source": [
    "def plot_img(img,normal=False):\n",
    "    npimg=img.numpy()\n",
    "    if normal:\n",
    "#     img*mean(0.5) + SD(0.5) => unnormalizing the image\n",
    "        npimg=img.numpy()/2+0.5\n",
    "    plt.imshow(np.transpose(npimg,(1,2,0)))\n",
    "    plt.show()"
   ]
  },
  {
   "cell_type": "code",
   "execution_count": 8,
   "id": "1c48de5a",
   "metadata": {},
   "outputs": [
    {
     "data": {
      "application/javascript": [
       "$(document).ready(\n",
       "    function() {\n",
       "        function appendUniqueDiv(){\n",
       "            // append a div with our uuid so we can check that it's already\n",
       "            // been sent and avoid duplicates on page reload\n",
       "            var notifiedDiv = document.createElement(\"div\")\n",
       "            notifiedDiv.id = \"7fbbfac6-e9f7-4c18-9724-5e9e6a9d7331\"\n",
       "            element.append(notifiedDiv)\n",
       "        }\n",
       "\n",
       "        // only send notifications if the pageload is complete; this will\n",
       "        // help stop extra notifications when a saved notebook is loaded,\n",
       "        // which during testing gives us state \"interactive\", not \"complete\"\n",
       "        if (document.readyState === 'complete') {\n",
       "            // check for the div that signifies that the notification\n",
       "            // was already sent\n",
       "            if (document.getElementById(\"7fbbfac6-e9f7-4c18-9724-5e9e6a9d7331\") === null) {\n",
       "                var notificationPayload = {\"requireInteraction\": false, \"icon\": \"/static/base/images/favicon.ico\", \"body\": \"completed\"};\n",
       "                if (Notification.permission !== 'denied') {\n",
       "                    if (Notification.permission !== 'granted') { \n",
       "                        Notification.requestPermission(function (permission) {\n",
       "                            if(!('permission' in Notification)) {\n",
       "                                Notification.permission = permission\n",
       "                            }\n",
       "                        })\n",
       "                    }\n",
       "                    if (Notification.permission === 'granted') {\n",
       "                    var notification = new Notification(\"Jupyter Notebook\", notificationPayload)\n",
       "                    appendUniqueDiv()\n",
       "                    notification.onclick = function () {\n",
       "                        window.focus();\n",
       "                        this.close();\n",
       "                        };\n",
       "                    } \n",
       "                }     \n",
       "            }\n",
       "        }\n",
       "    }\n",
       ")\n"
      ],
      "text/plain": [
       "<IPython.core.display.Javascript object>"
      ]
     },
     "metadata": {},
     "output_type": "display_data"
    }
   ],
   "source": [
    "%%notify -m \"completed\"\n",
    "dataiter=iter(trainloader)\n",
    "images,labels=dataiter.next()"
   ]
  },
  {
   "cell_type": "code",
   "execution_count": 9,
   "id": "44a56508",
   "metadata": {},
   "outputs": [
    {
     "data": {
      "image/png": "[encoded data removed]",
      "text/plain": [
       "<Figure size 432x288 with 1 Axes>"
      ]
     },
     "metadata": {
      "needs_background": "light"
     },
     "output_type": "display_data"
    },
    {
     "data": {
      "text/plain": [
       "(None, ['No Covid', 'No Covid', 'Covid', 'No Covid'])"
      ]
     },
     "execution_count": 9,
     "metadata": {},
     "output_type": "execute_result"
    }
   ],
   "source": [
    "plot_img(torchvision.utils.make_grid(images)),list(map(lambda a: classes[a],labels))"
   ]
  },
  {
   "cell_type": "markdown",
   "id": "c753ec8a",
   "metadata": {},
   "source": [
    "## Creating the model"
   ]
  },
  {
   "cell_type": "code",
   "execution_count": 10,
   "id": "f8d37ad3",
   "metadata": {},
   "outputs": [],
   "source": [
    "def evaluation(dataloader,model):\n",
    "    model.eval()\n",
    "    with torch.no_grad():\n",
    "        total,correct=0,0\n",
    "        for data in dataloader:\n",
    "            inputs,labels=data\n",
    "            inputs,labels=inputs.to(device),labels.to(device)\n",
    "            outputs=model(inputs)\n",
    "    #         print(outputs)\n",
    "    #         print(outputs,labels)\n",
    "            m = nn.Sigmoid()\n",
    "            outputs=m(outputs)\n",
    "            pred=outputs>=0.5\n",
    "            pred=pred.flatten()\n",
    "#             print(pred,labels)\n",
    "            total+=labels.size(0)\n",
    "            # labels=torch.add(labels,-1)\n",
    "            # print(pred,labels)\n",
    "    #         print(list(map(lambda a: classes[a],pred)),list(map(lambda a: classes[a],labels)))\n",
    "            correct+=(pred==labels).sum().item()\n",
    "#             break\n",
    "    print(correct,total)\n",
    "    model.train()\n",
    "    return 100*correct/total"
   ]
  },
  {
   "cell_type": "code",
   "execution_count": 11,
   "id": "edd4841a",
   "metadata": {},
   "outputs": [],
   "source": [
    "class VGG(nn.Module):\n",
    "#     def train_dataloader(self):\n",
    "#         return torch.utils.data.DataLoader(trainset,batch_size=batch_size,shuffle=True)\n",
    "#     def test_dataloader(self):\n",
    "#         return torch.utils.data.DataLoader(testset,batch_size=batch_size,shuffle=False)\n",
    "#     def configure_optimizers(self):\n",
    "#         optimizer = optim.Adam(params=self.parameters(),lr=(self.lr or self.learning_rate))\n",
    "#         return optimizer\n",
    "    def __init__(self,learning_rate=0.001):\n",
    "        super().__init__()\n",
    "        self.learning_rate = learning_rate\n",
    "        # init a pretrained vggnet\n",
    "        backbone = models.vgg16_bn(pretrained=True)\n",
    "        layers = list(backbone.children())[:-1]\n",
    "        self.feature_extractor = nn.Sequential(*layers)\n",
    "        fc=[]\n",
    "        fc.extend([nn.Linear(in_features=25088,out_features=512),\n",
    "           nn.ReLU(),\n",
    "           nn.Dropout(),\n",
    "           nn.Linear(in_features=512,out_features=128),\n",
    "           nn.ReLU(),\n",
    "           nn.Dropout(),\n",
    "           nn.Linear(in_features=128,out_features=1)\n",
    "          ])\n",
    "        self.classifier=nn.Sequential(*fc)\n",
    "        for param in self.feature_extractor.parameters():\n",
    "            param.requires_grad=False\n",
    "    def forward(self, x):\n",
    "        with torch.no_grad():\n",
    "            representations = self.feature_extractor(x).flatten(1)\n",
    "        x=self.classifier(representations)\n",
    "        return x;\n",
    "#     def training_step(self, batch, batch_idx):\n",
    "#         inputs, labels = batch\n",
    "#         pred = self.forward(inputs)\n",
    "#         labels = labels.unsqueeze(-1)\n",
    "# #         self.log('train_acc_step', torchmetrics.functional.accuracy(pred, labels,average='micro', mdmc_average='global', num_classes=num_classes, multiclass=False),on_step=True)\n",
    "# #         self.log('conf matrix',torchmetrics.functional.confusion_matrix(pred,labels,num_classes=num_classes, normalize=None, threshold=0.5, multilabel=False),on_step=True,)\n",
    "#         labels = labels.type_as(pred)\n",
    "# #         print(labels)\n",
    "#         loss = nn.BCEWithLogitsLoss()(pred,labels)\n",
    "#         self.log('train_loss', loss, on_epoch=True, prog_bar=True, logger=False)\n",
    "#         return loss     "
   ]
  },
  {
   "cell_type": "markdown",
   "id": "c4444f69",
   "metadata": {},
   "source": [
    "## Cross Validation"
   ]
  },
  {
   "cell_type": "code",
   "execution_count": 12,
   "id": "550ab400",
   "metadata": {},
   "outputs": [],
   "source": [
    "from sklearn.model_selection import KFold"
   ]
  },
  {
   "cell_type": "code",
   "execution_count": 13,
   "id": "d4976b80",
   "metadata": {},
   "outputs": [],
   "source": [
    "def reset_weight(net):\n",
    "    net.load_state_dict(torch.load(\"VGG_originalstate.pt\"))"
   ]
  },
  {
   "cell_type": "code",
   "execution_count": 14,
   "id": "3b68b916",
   "metadata": {},
   "outputs": [],
   "source": [
    "def k_fold_cv(model,dataset,loss_function,k_folds=5,epochs=10):\n",
    "    kfold = KFold(n_splits=k_folds, shuffle=True)\n",
    "    # Initialize optimizer\n",
    "    results = {}\n",
    "    for fold, (train_ids, test_ids) in enumerate(kfold.split(dataset)): \n",
    "        print(f'FOLD {fold}')\n",
    "        print('--------------------------------')\n",
    "\n",
    "        # Sample elements randomly from a given list of ids, no replacement.\n",
    "        train_subsampler = torch.utils.data.SubsetRandomSampler(train_ids)\n",
    "        test_subsampler = torch.utils.data.SubsetRandomSampler(test_ids)\n",
    "        # Define data loaders for training and testing data in this fold\n",
    "        trainloader = torch.utils.data.DataLoader(\n",
    "              dataset, \n",
    "              batch_size=batch_size, sampler=train_subsampler)\n",
    "        testloader = torch.utils.data.DataLoader(\n",
    "              dataset,\n",
    "              batch_size=batch_size, sampler=test_subsampler)\n",
    "\n",
    "        # Init the neural network\n",
    "        network = model\n",
    "        reset_weight(network)\n",
    "        optimizer = optim.Adam(network.parameters())\n",
    "        # Run the training loop for defined number of epochs\n",
    "        for epoch in range(0, epochs):\n",
    "\n",
    "            # Print epoch\n",
    "            print(f'Starting epoch {epoch+1}')\n",
    "\n",
    "            # Set current loss value\n",
    "            current_loss = 0.0\n",
    "\n",
    "            # Iterate over the DataLoader for training data\n",
    "            for i, data in enumerate(trainloader, 0):\n",
    "\n",
    "                # Get inputs\n",
    "                inputs, targets = data\n",
    "                inputs = inputs.to(device)\n",
    "                targets = targets.to(device)\n",
    "                # Zero the gradients\n",
    "                optimizer.zero_grad()\n",
    "\n",
    "                # Perform forward pass\n",
    "                outputs = network(inputs)\n",
    "                targets = targets.unsqueeze(-1)\n",
    "                targets = targets.type_as(outputs)\n",
    "                # Compute loss\n",
    "                loss = loss_function(outputs, targets)\n",
    "\n",
    "                # Perform backward pass\n",
    "                loss.backward()\n",
    "\n",
    "                # Perform optimization\n",
    "                optimizer.step()\n",
    "                torch.cuda.empty_cache()\n",
    "                del inputs,targets,outputs\n",
    "                # Print statistics\n",
    "                current_loss += loss.item()\n",
    "                if i % 500 == 499:\n",
    "                    print('Loss after mini-batch %5d: %.3f' %\n",
    "                      (i + 1, current_loss / 500))\n",
    "                    current_loss = 0.0\n",
    "\n",
    "        # Process is complete.\n",
    "        print('Training process has finished. Saving the trained model.')\n",
    "        save_path = f'./VGG-fold-{fold}.pth'\n",
    "        torch.save(network, save_path)\n",
    "\n",
    "        # Evaluation for this fold\n",
    "        correct, total = 0, 0\n",
    "        with torch.no_grad():\n",
    "\n",
    "            # Iterate over the test data and generate predictions\n",
    "            for i, data in enumerate(testloader, 0):\n",
    "                # Get inputs\n",
    "                inputs, targets = data\n",
    "                inputs,targets=inputs.to(device),targets.to(device)\n",
    "                # Generate outputs\n",
    "                outputs = network(inputs)\n",
    "                m = nn.Sigmoid()\n",
    "                outputs=m(outputs)\n",
    "                pred=outputs>=0.5\n",
    "                pred=pred.flatten()\n",
    "                # Set total and correct\n",
    "                total += targets.size(0)\n",
    "                correct += (pred == targets).sum().item()\n",
    "                del inputs,targets,outputs\n",
    "                torch.cuda.empty_cache()\n",
    "            # Print accuracy\n",
    "            print('Accuracy for fold %d: %d %%' % (fold, 100.0 * correct / total))\n",
    "            print('--------------------------------')\n",
    "            results[fold] = 100.0 * (correct / total)\n",
    "\n",
    "    # Print fold results\n",
    "    print(f'K-FOLD CROSS VALIDATION RESULTS FOR {k_folds} FOLDS')\n",
    "    print('--------------------------------')\n",
    "    sum = 0.0\n",
    "    for key, value in results.items():\n",
    "        print(f'Fold {key}: {value} %')\n",
    "        sum += value\n",
    "    print(f'Average: {sum/len(results.items())} %')"
   ]
  },
  {
   "cell_type": "code",
   "execution_count": null,
   "id": "12e42b96",
   "metadata": {},
   "outputs": [
    {
     "name": "stdout",
     "output_type": "stream",
     "text": [
      "FOLD 0\n",
      "--------------------------------\n",
      "Starting epoch 1\n",
      "Loss after mini-batch   500: 0.472\n",
      "Loss after mini-batch  1000: 0.305\n",
      "Starting epoch 2\n",
      "Loss after mini-batch   500: 0.221\n",
      "Loss after mini-batch  1000: 0.202\n",
      "Starting epoch 3\n",
      "Loss after mini-batch   500: 0.196\n",
      "Loss after mini-batch  1000: 0.168\n",
      "Starting epoch 4\n",
      "Loss after mini-batch   500: 0.164\n",
      "Loss after mini-batch  1000: 0.161\n",
      "Starting epoch 5\n",
      "Loss after mini-batch   500: 0.150\n",
      "Loss after mini-batch  1000: 0.147\n",
      "Starting epoch 6\n",
      "Loss after mini-batch   500: 0.157\n",
      "Loss after mini-batch  1000: 0.142\n",
      "Starting epoch 7\n",
      "Loss after mini-batch   500: 0.124\n",
      "Loss after mini-batch  1000: 0.127\n",
      "Starting epoch 8\n",
      "Loss after mini-batch   500: 0.089\n",
      "Loss after mini-batch  1000: 0.110\n",
      "Starting epoch 9\n",
      "Loss after mini-batch   500: 0.099\n",
      "Loss after mini-batch  1000: 0.099\n",
      "Starting epoch 10\n",
      "Loss after mini-batch   500: 0.094\n",
      "Loss after mini-batch  1000: 0.128\n",
      "Starting epoch 11\n",
      "Loss after mini-batch   500: 0.070\n",
      "Loss after mini-batch  1000: 0.122\n",
      "Starting epoch 12\n",
      "Loss after mini-batch   500: 0.098\n",
      "Loss after mini-batch  1000: 0.078\n",
      "Starting epoch 13\n",
      "Loss after mini-batch   500: 0.089\n",
      "Loss after mini-batch  1000: 0.087\n",
      "Starting epoch 14\n",
      "Loss after mini-batch   500: 0.096\n",
      "Loss after mini-batch  1000: 0.078\n",
      "Starting epoch 15\n",
      "Loss after mini-batch   500: 0.076\n",
      "Loss after mini-batch  1000: 0.096\n",
      "Training process has finished. Saving the trained model.\n",
      "Accuracy for fold 0: 94 %\n",
      "--------------------------------\n",
      "FOLD 1\n",
      "--------------------------------\n",
      "Starting epoch 1\n",
      "Loss after mini-batch   500: 0.482\n",
      "Loss after mini-batch  1000: 0.308\n",
      "Starting epoch 2\n",
      "Loss after mini-batch   500: 0.216\n",
      "Loss after mini-batch  1000: 0.220\n",
      "Starting epoch 3\n",
      "Loss after mini-batch   500: 0.169\n",
      "Loss after mini-batch  1000: 0.174\n",
      "Starting epoch 4\n",
      "Loss after mini-batch   500: 0.155\n",
      "Loss after mini-batch  1000: 0.147\n",
      "Starting epoch 5\n",
      "Loss after mini-batch   500: 0.132\n",
      "Loss after mini-batch  1000: 0.150\n",
      "Starting epoch 6\n",
      "Loss after mini-batch   500: 0.115\n",
      "Loss after mini-batch  1000: 0.119\n",
      "Starting epoch 7\n",
      "Loss after mini-batch   500: 0.094\n",
      "Loss after mini-batch  1000: 0.113\n",
      "Starting epoch 8\n",
      "Loss after mini-batch   500: 0.122\n",
      "Loss after mini-batch  1000: 0.098\n",
      "Starting epoch 9\n",
      "Loss after mini-batch   500: 0.073\n",
      "Loss after mini-batch  1000: 0.092\n",
      "Starting epoch 10\n",
      "Loss after mini-batch   500: 0.080\n",
      "Loss after mini-batch  1000: 0.102\n",
      "Starting epoch 11\n",
      "Loss after mini-batch   500: 0.096\n",
      "Loss after mini-batch  1000: 0.096\n",
      "Starting epoch 12\n",
      "Loss after mini-batch   500: 0.092\n",
      "Loss after mini-batch  1000: 0.084\n",
      "Starting epoch 13\n",
      "Loss after mini-batch   500: 0.083\n",
      "Loss after mini-batch  1000: 0.088\n",
      "Starting epoch 14\n",
      "Loss after mini-batch   500: 0.060\n",
      "Loss after mini-batch  1000: 0.083\n",
      "Starting epoch 15\n",
      "Loss after mini-batch   500: 0.117\n",
      "Loss after mini-batch  1000: 0.091\n",
      "Training process has finished. Saving the trained model.\n",
      "Accuracy for fold 1: 95 %\n",
      "--------------------------------\n",
      "FOLD 2\n",
      "--------------------------------\n",
      "Starting epoch 1\n",
      "Loss after mini-batch   500: 0.452\n",
      "Loss after mini-batch  1000: 0.318\n",
      "Starting epoch 2\n",
      "Loss after mini-batch   500: 0.194\n",
      "Loss after mini-batch  1000: 0.236\n",
      "Starting epoch 3\n",
      "Loss after mini-batch   500: 0.167\n",
      "Loss after mini-batch  1000: 0.158\n",
      "Starting epoch 4\n",
      "Loss after mini-batch   500: 0.131\n",
      "Loss after mini-batch  1000: 0.138\n",
      "Starting epoch 5\n",
      "Loss after mini-batch   500: 0.140\n",
      "Loss after mini-batch  1000: 0.114\n",
      "Starting epoch 6\n",
      "Loss after mini-batch   500: 0.115\n",
      "Loss after mini-batch  1000: 0.116\n"
     ]
    }
   ],
   "source": [
    "%%notify -m \"Completed\"\n",
    "vgg=VGG().to(device)\n",
    "torch.save(vgg.state_dict(),\"VGG_originalstate.pt\")\n",
    "loss_fn=nn.BCEWithLogitsLoss().to(device)\n",
    "data_set=trainset\n",
    "k_fold_cv(vgg,data_set,loss_fn,epochs=15)"
   ]
  },
  {
   "cell_type": "code",
   "execution_count": 27,
   "id": "c56ac073",
   "metadata": {},
   "outputs": [],
   "source": [
    "def train(net,dataloader,epochs=15):\n",
    "    loss_fn=nn.BCEWithLogitsLoss().to(device)\n",
    "    opt=optim.Adam(params=net.parameters())\n",
    "    for epoch in range(epochs):\n",
    "        for i,data in enumerate(dataloader,0):\n",
    "            inputs,labels=data\n",
    "            inputs,labels=inputs.to(device),labels.to(device)\n",
    "            opt.zero_grad()\n",
    "            outputs=net(inputs)\n",
    "            labels=labels.unsqueeze(-1)\n",
    "            labels = labels.type_as(outputs)\n",
    "    #         print(outputs)\n",
    "            loss=loss_fn(outputs,labels)\n",
    "            loss.backward()\n",
    "            opt.step()\n",
    "            torch.cuda.empty_cache()\n",
    "            del inputs,labels,outputs"
   ]
  },
  {
   "cell_type": "code",
   "execution_count": 29,
   "id": "740196c7",
   "metadata": {},
   "outputs": [],
   "source": [
    "reset_weight(vgg)\n",
    "train(vgg,trainloader)"
   ]
  },
  {
   "cell_type": "code",
   "execution_count": 28,
   "id": "d0957643",
   "metadata": {},
   "outputs": [],
   "source": [
    "torch.save(vgg,\"VGG-final.pth\")"
   ]
  },
  {
   "cell_type": "code",
   "execution_count": 15,
   "id": "b934c0ea",
   "metadata": {},
   "outputs": [
    {
     "name": "stdout",
     "output_type": "stream",
     "text": [
      "1557 1618\n",
      "96.22991347342398\n"
     ]
    }
   ],
   "source": [
    "print(evaluation(testloader,vgg))"
   ]
  },
  {
   "cell_type": "code",
   "execution_count": 22,
   "id": "59acd896",
   "metadata": {},
   "outputs": [],
   "source": [
    "from sklearn.metrics import accuracy_score\n",
    "from sklearn.metrics import precision_score\n",
    "from sklearn.metrics import recall_score\n",
    "from sklearn.metrics import roc_auc_score\n",
    "from sklearn.metrics import f1_score"
   ]
  },
  {
   "cell_type": "code",
   "execution_count": 25,
   "id": "c11bc2b7",
   "metadata": {},
   "outputs": [],
   "source": [
    "def report(dataloader,model):\n",
    "    y_true,y_pred=torch.tensor([]),torch.tensor([])\n",
    "    model.eval()\n",
    "    with torch.no_grad():\n",
    "        total,correct=0,0\n",
    "        for data in dataloader:\n",
    "            inputs,labels=data\n",
    "            inputs,labels=inputs.to(device),labels.to(device)\n",
    "            outputs=model(inputs)\n",
    "    #         print(outputs)\n",
    "    #         print(outputs,labels)\n",
    "            m = nn.Sigmoid()\n",
    "            outputs=m(outputs)\n",
    "            pred=outputs>=0.5\n",
    "            pred=pred.flatten()\n",
    "            y_true=torch.cat((y_true,copy.deepcopy(labels.cpu())),0)\n",
    "            y_pred=torch.cat((y_pred,copy.deepcopy(pred.cpu())),0)\n",
    "#             print(y_pred,y_true,y_pred==y_true,pred==labels)\n",
    "            total+=labels.size(0)\n",
    "            # labels=torch.add(labels,-1)\n",
    "            # print(pred,labels)\n",
    "    #         print(list(map(lambda a: classes[a],pred)),list(map(lambda a: classes[a],labels)))\n",
    "            correct+=(pred==labels).sum().item()\n",
    "#             print((pred==labels).sum())\n",
    "    print(\"Accuracy: \",accuracy_score(y_true,y_pred))\n",
    "    print(\"Precision: \",precision_score(y_true,y_pred))\n",
    "    print(\"Recall: \",recall_score(y_true,y_pred))\n",
    "    print(\"F1-Score: \",f1_score(y_true,y_pred))\n",
    "    print(\"AUC: \",roc_auc_score(y_true,y_pred))\n",
    "    print(correct,total)\n",
    "#     print(y_true,y_pred)\n",
    "    y_pred=y_pred.flatten()\n",
    "    y_true=y_true.flatten()\n",
    "#     print(classification_report(y_true, y_pred))\n",
    "    \n",
    "    model.train()\n",
    "    return 100*correct/total"
   ]
  },
  {
   "cell_type": "code",
   "execution_count": 26,
   "id": "fbb3b747",
   "metadata": {},
   "outputs": [
    {
     "name": "stdout",
     "output_type": "stream",
     "text": [
      "Accuracy:  0.9622991347342398\n",
      "Precision:  0.965559655596556\n",
      "Recall:  0.9596577017114915\n",
      "F1-Score:  0.9625996321275291\n",
      "AUC:  0.9623288508557457\n",
      "1557 1618\n",
      "96.22991347342398\n"
     ]
    }
   ],
   "source": [
    "print(report(testloader,vgg))"
   ]
  }
 ],
 "metadata": {
  "kernelspec": {
   "display_name": "Python 3",
   "language": "python",
   "name": "python3"
  },
  "language_info": {
   "codemirror_mode": {
    "name": "ipython",
    "version": 3
   },
   "file_extension": ".py",
   "mimetype": "text/x-python",
   "name": "python",
   "nbconvert_exporter": "python",
   "pygments_lexer": "ipython3",
   "version": "3.9.5"
  }
 },
 "nbformat": 4,
 "nbformat_minor": 5
}
